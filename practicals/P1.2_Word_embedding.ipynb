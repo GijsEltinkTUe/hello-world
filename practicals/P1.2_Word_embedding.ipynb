{
  "cells": [
    {
      "cell_type": "markdown",
      "metadata": {
        "id": "view-in-github",
        "colab_type": "text"
      },
      "source": [
        "<a href=\"https://colab.research.google.com/github/GijsEltinkTUe/hello-world/blob/master/practicals/P1.2_Word_embedding.ipynb\" target=\"_parent\"><img src=\"https://colab.research.google.com/assets/colab-badge.svg\" alt=\"Open In Colab\"/></a>"
      ]
    },
    {
      "cell_type": "code",
      "execution_count": 1,
      "metadata": {
        "id": "G-OMU1F4gfFY"
      },
      "outputs": [],
      "source": [
        "%matplotlib inline"
      ]
    },
    {
      "cell_type": "markdown",
      "metadata": {
        "id": "jpNtb7bggfFb"
      },
      "source": [
        "# Practical Overview\n",
        "\n",
        " In this Practical you will learn :\n",
        "- Basic concepts of word embeddings.\n",
        "- How to extract word embeddings by N-Gram in a toy example.\n",
        "- How to extract word embeddings by CBoW in a toy example.\n",
        "- How to extract word embeddings by CBoW in `Alice in Wonderland`.\n",
        "- How to perform the analogy task.\n",
        "- Reflecting on the conceptual differences between the CBoW and N-Gram model.\n",
        "\n",
        "We recommend running the practicals of this course in Google Colab. Make sure to go to additional connection options (the small arrow at the top right) -> change runtime type -> a GPU runtime to make use of GPU acceleration."
      ]
    },
    {
      "cell_type": "markdown",
      "metadata": {
        "id": "xJ4nnAY4jR4R"
      },
      "source": [
        "\n",
        "# Word Embeddings: Encoding Lexical Semantics\n",
        "\n",
        "\n",
        "Word embeddings are dense vectors of real numbers, one per word in your\n",
        "vocabulary. In NLP, it is almost always the case that your features are\n",
        "words! But how should you represent a word in a computer? You could\n",
        "store its ascii character representation, but that only tells you what\n",
        "the word *is*, it doesn't say much about what it *means* (you might be\n",
        "able to derive its part of speech from its affixes, or properties from\n",
        "its capitalization, but not much). Even more, in what sense could you\n",
        "combine these representations? We often want dense outputs from our\n",
        "neural networks, where the inputs are $|V|$ dimensional, where\n",
        "$V$ is our vocabulary, but often the outputs are only a few\n",
        "dimensional (if we are only predicting a handful of labels, for\n",
        "instance). How do we get from a massive dimensional space to a smaller\n",
        "dimensional space?\n",
        "\n",
        "How about instead of ascii representations, we use a one-hot encoding?\n",
        "That is, we represent the word $w$ by\n",
        "$$\n",
        "\\begin{align}\n",
        "\\overbrace{\\left[ 0, 0, \\dots, 1, \\dots, 0, 0 \\right]}^\\text{|V| elements}\n",
        "\\end{align}\n",
        "$$\n",
        "\n",
        "where the 1 is in a location unique to $w$. Any other word will\n",
        "have a 1 in some other location, and a 0 everywhere else.\n",
        "\n",
        "There is an enormous drawback to this representation, besides just how\n",
        "huge it is. It basically treats all words as independent entities with\n",
        "no relation to each other. What we really want is some notion of\n",
        "*similarity* between words. Why? Let's see an example.\n",
        "\n",
        "Suppose we are building a language model. Suppose we have seen the\n",
        "sentences\n",
        "\n",
        "* The mathematician ran to the store.\n",
        "* The physicist ran to the store.\n",
        "* The mathematician solved the open problem.\n",
        "\n",
        "in our training data. Now suppose we get a new sentence never before\n",
        "seen in our training data:\n",
        "\n",
        "* The physicist solved the open problem.\n",
        "\n",
        "Our language model might do OK on this sentence, but wouldn't it be much\n",
        "better if we could use the following two facts:\n",
        "\n",
        "- We have seen  mathematician and physicist in the same role in a sentence. Somehow they\n",
        "  have a semantic relation.\n",
        "* We have seen mathematician in the same role  in this new unseen sentence\n",
        "  as we are now seeing physicist.\n",
        "\n",
        "and then infer that physicist is actually a good fit in the new unseen\n",
        "sentence? This is what we mean by a notion of similarity: we mean\n",
        "*semantic similarity*, not simply having similar orthographic\n",
        "representations. It is a technique to combat the sparsity of linguistic\n",
        "data, by connecting the dots between what we have seen and what we\n",
        "haven't. This example of course relies on a fundamental linguistic\n",
        "assumption: that words appearing in similar contexts are related to each\n",
        "other semantically. This is called the [distributional\n",
        "hypothesis](https://en.wikipedia.org/wiki/Distributional_semantics).\n"
      ]
    },
    {
      "cell_type": "markdown",
      "metadata": {
        "id": "hi6btV-agfFd"
      },
      "source": [
        "# Getting Dense Word Embeddings\n",
        "\n",
        "\n",
        "How can we solve this problem? That is, how could we actually encode\n",
        "semantic similarity in words? Maybe we think up some semantic\n",
        "attributes. For example, we see that both mathematicians and physicists\n",
        "can run, so maybe we give these words a high score for the \"is able to\n",
        "run\" semantic attribute. Think of some other attributes, and imagine\n",
        "what you might score some common words on those attributes.\n",
        "\n",
        "If each attribute is a dimension, then we might give each word a vector,\n",
        "like this:\n",
        "\n",
        "$$\n",
        "\\begin{align}\n",
        "q_\\text{mathematician} = \\left[ \\overbrace{2.3}^\\text{can run},\n",
        "   \\overbrace{9.4}^\\text{likes coffee}, \\overbrace{-5.5}^\\text{majored in Physics}, \\dots \\right]\n",
        " \\end{align}\n",
        "$$\n",
        "\n",
        "$$\n",
        "\\begin{align}\n",
        "q_\\text{physicist} = \\left[ \\overbrace{2.5}^\\text{can run},\n",
        "   \\overbrace{9.1}^\\text{likes coffee}, \\overbrace{6.4}^\\text{majored in Physics}, \\dots \\right]\n",
        "\\end{align}\n",
        "$$\n",
        "\n",
        "Then we can get a measure of similarity between these words by doing:\n",
        "\n",
        "$$\n",
        "\\begin{align}\n",
        "\\text{Similarity}(\\text{physicist}, \\text{mathematician}) = q_\\text{physicist} \\cdot q_\\text{mathematician}\n",
        "\\end{align}\n",
        "$$\n",
        "\n",
        "\n",
        "Although it is more common to normalize by the lengths:\n",
        "\n",
        "\\begin{align}\\text{Similarity}(\\text{physicist}, \\text{mathematician}) = \\frac{q_\\text{physicist} \\cdot q_\\text{mathematician}}\n",
        "   {\\| q_\\text{physicist} \\| \\| q_\\text{mathematician} \\|} = \\cos (\\phi)\\end{align}\n",
        "\n",
        "Where $\\phi$ is the angle between the two vectors. That way,\n",
        "extremely similar words (words whose embeddings point in the same\n",
        "direction) will have similarity 1. Extremely dissimilar words should\n",
        "have similarity -1.\n",
        "\n",
        "\n",
        "\n",
        "You can think of the sparse one-hot vectors from the beginning of this\n",
        "section as a special case of these new vectors we have defined, where\n",
        "each word basically has similarity 0, and we gave each word some unique\n",
        "semantic attribute. These new vectors are *dense*, which is to say their\n",
        "entries are (typically) non-zero.\n",
        "\n",
        "But these new vectors are a big pain: you could think of thousands of\n",
        "different semantic attributes that might be relevant to determining\n",
        "similarity, and how on earth would you set the values of the different\n",
        "attributes? Central to the idea of deep learning is that the neural\n",
        "network learns representations of the features, rather than requiring\n",
        "the programmer to design them herself. So why not just let the word\n",
        "embeddings be parameters in our model, and then be updated during\n",
        "training? This is exactly what we will do. We will have some *latent\n",
        "semantic attributes* that the network can, in principle, learn. Note\n",
        "that the word embeddings will probably not be interpretable. That is,\n",
        "although with our hand-crafted vectors above we can see that\n",
        "mathematicians and physicists are similar in that they both like coffee,\n",
        "if we allow a neural network to learn the embeddings and see that both\n",
        "mathematicians and physicists have a large value in the second\n",
        "dimension, it is not clear what that means. They are similar in some\n",
        "latent semantic dimension, but this probably has no interpretation to\n",
        "us.\n",
        "\n",
        "\n",
        "In summary, **word embeddings are a representation of the *semantics* of\n",
        "a word, efficiently encoding semantic information that might be relevant\n",
        "to the task at hand**. You can embed other things too: part of speech\n",
        "tags, parse trees, anything! The idea of feature embeddings is central\n",
        "to the field.\n"
      ]
    },
    {
      "cell_type": "markdown",
      "metadata": {
        "id": "KfAGuLRLgfFd"
      },
      "source": [
        "# Word Embeddings in Pytorch\n",
        "\n",
        "\n",
        "Before we get to a worked example and an exercise, a few quick notes\n",
        "about how to use embeddings in Pytorch and in deep learning programming\n",
        "in general. Similar to how we defined a unique index for each word when\n",
        "making one-hot vectors, we also need to define an index for each word\n",
        "when using embeddings. These will be keys into a lookup table. That is,\n",
        "embeddings are stored as a $|V| \\times D$ matrix, where $D$\n",
        "is the dimensionality of the embeddings, such that the word assigned\n",
        "index $i$ has its embedding stored in the $i$'th row of the\n",
        "matrix. In all of code, the mapping from words to indices is a\n",
        "dictionary named word\\_to\\_ix.\n",
        "\n",
        "The module that allows you to use embeddings is torch.nn.Embedding,\n",
        "which takes two arguments: the vocabulary size, and the dimensionality\n",
        "of the embeddings.\n",
        "\n",
        "To index into this table, you must use torch.LongTensor (since the\n",
        "indices are integers, not floats).\n",
        "\n"
      ]
    },
    {
      "cell_type": "code",
      "execution_count": 2,
      "metadata": {
        "id": "SN-aYyHOjR4S",
        "outputId": "351c5bff-efbf-4efb-f7f8-3d171eebfd1c",
        "colab": {
          "base_uri": "https://localhost:8080/"
        }
      },
      "outputs": [
        {
          "output_type": "execute_result",
          "data": {
            "text/plain": [
              "<torch._C.Generator at 0x7d18eb79a850>"
            ]
          },
          "metadata": {},
          "execution_count": 2
        }
      ],
      "source": [
        "# The first part of this practical is based on the tutorial by Robert Guthrie, which can be found here:\n",
        "# https://pytorch.org/tutorials/beginner/nlp/word_embeddings_tutorial.html\n",
        "\n",
        "import torch\n",
        "import torch.nn as nn\n",
        "import torch.nn.functional as F\n",
        "import torch.optim as optim\n",
        "import numpy as np\n",
        "torch.manual_seed(1)"
      ]
    },
    {
      "cell_type": "code",
      "execution_count": 3,
      "metadata": {
        "id": "Ki4s4m9IjR4T",
        "outputId": "8cebe451-bd98-44df-dbae-c08426468645",
        "colab": {
          "base_uri": "https://localhost:8080/"
        }
      },
      "outputs": [
        {
          "output_type": "stream",
          "name": "stdout",
          "text": [
            "tensor([[ 0.6614,  0.2669,  0.0617,  0.6213, -0.4519]],\n",
            "       grad_fn=<EmbeddingBackward0>)\n"
          ]
        }
      ],
      "source": [
        "word_to_ix = {\"hello\": 0, \"world\": 1}\n",
        "embeds = nn.Embedding(2, 5)  # 2 words in vocab, 5 dimensional embeddings\n",
        "lookup_tensor = torch.tensor([word_to_ix[\"hello\"]], dtype=torch.long)\n",
        "hello_embed = embeds(lookup_tensor)\n",
        "print(hello_embed)"
      ]
    },
    {
      "cell_type": "markdown",
      "metadata": {
        "id": "uzIyUMPKjR4U"
      },
      "source": [
        "# Getting started:  N-Gram Language Modeling in a Toy example\n",
        "\n",
        "\n",
        "Recall that in an n-gram language model, given a sequence of words\n",
        "$w$, we want to compute\n",
        "\n",
        "\\begin{align}P(w_i | w_{i-1}, w_{i-2}, \\dots, w_{i-n+1} )\\end{align}\n",
        "\n",
        "Where $w_i$ is the ith word of the sequence.\n",
        "\n",
        "In this example, we will compute the loss function on some training\n",
        "examples and update the parameters with backpropagation.\n",
        "\n",
        "\n"
      ]
    },
    {
      "cell_type": "markdown",
      "metadata": {
        "id": "m-xYIPjUgfFf"
      },
      "source": [
        "##  Data Preprocessing\n",
        "\n",
        "Before we can use the data in our model, we should build a list of tuples.  Each tuple is `([ word_i-2, word_i-1 ], target word)`, we also build dictionaries to map from words to indices, i.e. word_to_ix, and map from indices to words, i.e. ix_to_word,"
      ]
    },
    {
      "cell_type": "code",
      "execution_count": 4,
      "metadata": {
        "id": "oNtmFqFkgfFf",
        "outputId": "2cbc1fa1-76d4-4606-f40f-d6182b975ce4",
        "colab": {
          "base_uri": "https://localhost:8080/"
        }
      },
      "outputs": [
        {
          "output_type": "stream",
          "name": "stdout",
          "text": [
            "[(['When', 'forty'], 'winters'), (['forty', 'winters'], 'shall'), (['winters', 'shall'], 'besiege')]\n"
          ]
        }
      ],
      "source": [
        "CONTEXT_SIZE = 2   # a 2-gram language model\n",
        "\n",
        "# We will use Shakespeare Sonnet 2\n",
        "test_sentence = \"\"\"When forty winters shall besiege thy brow,\n",
        "And dig deep trenches in thy beauty's field,\n",
        "Thy youth's proud livery so gazed on now,\n",
        "Will be a totter'd weed of small worth held:\n",
        "Then being asked, where all thy beauty lies,\n",
        "Where all the treasure of thy lusty days;\n",
        "To say, within thine own deep sunken eyes,\n",
        "Were an all-eating shame, and thriftless praise.\n",
        "How much more praise deserv'd thy beauty's use,\n",
        "If thou couldst answer 'This fair child of mine\n",
        "Shall sum my count, and make my old excuse,'\n",
        "Proving his beauty by succession thine!\n",
        "This were to be new made when thou art old,\n",
        "And see thy blood warm when thou feel'st it cold.\"\"\".split()\n",
        "# we should tokenize the input, but we will ignore that for now\n",
        "# build a list of tuples.  Each tuple is ([ word_i-2, word_i-1 ], target word)\n",
        "trigrams = [([test_sentence[i], test_sentence[i + 1]], test_sentence[i + 2])\n",
        "            for i in range(len(test_sentence) - 2)]\n",
        "# print the first 3, just so you can see what they look like\n",
        "print(trigrams[:3])\n",
        "\n",
        "\n",
        "vocab = set(test_sentence)\n",
        "word_to_ix = {word: i for i, word in enumerate(vocab)}\n",
        "ix_to_word = {ix:word for ix, word in enumerate(vocab)}\n"
      ]
    },
    {
      "cell_type": "markdown",
      "metadata": {
        "id": "CF2KmRdggfFg"
      },
      "source": [
        "## Create N-Gram model\n",
        "We create N-Gram language model, and set the word embedding size to be 100 (or other by your preference)"
      ]
    },
    {
      "cell_type": "code",
      "execution_count": 5,
      "metadata": {
        "id": "cAWWomBFjR4V",
        "scrolled": true,
        "colab": {
          "base_uri": "https://localhost:8080/"
        },
        "outputId": "f75c4f1b-8e10-4dc0-9d71-abd73966b181"
      },
      "outputs": [
        {
          "output_type": "stream",
          "name": "stdout",
          "text": [
            "Epoch: 0 \tLoss: 4.608457881792456\n",
            "Epoch: 1 \tLoss: 4.556301091624572\n",
            "Epoch: 2 \tLoss: 4.504717624292964\n",
            "Epoch: 3 \tLoss: 4.453660169533924\n",
            "Epoch: 4 \tLoss: 4.403003787572405\n",
            "Epoch: 5 \tLoss: 4.352506162845983\n",
            "Epoch: 6 \tLoss: 4.3022394644475614\n",
            "Epoch: 7 \tLoss: 4.2522023441517245\n",
            "Epoch: 8 \tLoss: 4.202477592282591\n",
            "Epoch: 9 \tLoss: 4.1527621408479405\n",
            "Epoch: 10 \tLoss: 4.102971188789975\n",
            "Epoch: 11 \tLoss: 4.053136764374455\n",
            "Epoch: 12 \tLoss: 4.003288074932267\n",
            "Epoch: 13 \tLoss: 3.953355983295272\n",
            "Epoch: 14 \tLoss: 3.903392817066834\n",
            "Epoch: 15 \tLoss: 3.853097675120936\n",
            "Epoch: 16 \tLoss: 3.8025405871129667\n",
            "Epoch: 17 \tLoss: 3.7516765763274336\n",
            "Epoch: 18 \tLoss: 3.700589947995886\n",
            "Epoch: 19 \tLoss: 3.649130808568634\n",
            "Epoch: 20 \tLoss: 3.597184723457404\n",
            "Epoch: 21 \tLoss: 3.5448396933817232\n",
            "Epoch: 22 \tLoss: 3.492205278008385\n",
            "Epoch: 23 \tLoss: 3.4391826897595834\n",
            "Epoch: 24 \tLoss: 3.38584374853995\n",
            "Epoch: 25 \tLoss: 3.3321287241657225\n",
            "Epoch: 26 \tLoss: 3.2781745374730202\n",
            "Epoch: 27 \tLoss: 3.2238262680779517\n",
            "Epoch: 28 \tLoss: 3.1689832284387234\n",
            "Epoch: 29 \tLoss: 3.1139178835185226\n",
            "Epoch: 30 \tLoss: 3.0583635352354133\n",
            "Epoch: 31 \tLoss: 3.0028078265949687\n",
            "Epoch: 32 \tLoss: 2.946845482935948\n",
            "Epoch: 33 \tLoss: 2.890829413338045\n",
            "Epoch: 34 \tLoss: 2.834531703353983\n",
            "Epoch: 35 \tLoss: 2.777971450206453\n",
            "Epoch: 36 \tLoss: 2.721544880255134\n",
            "Epoch: 37 \tLoss: 2.664878951237265\n",
            "Epoch: 38 \tLoss: 2.6081596689414135\n",
            "Epoch: 39 \tLoss: 2.5514565170866197\n",
            "Epoch: 40 \tLoss: 2.494563833010935\n",
            "Epoch: 41 \tLoss: 2.4378174946898907\n",
            "Epoch: 42 \tLoss: 2.381173987304215\n",
            "Epoch: 43 \tLoss: 2.324443823732106\n",
            "Epoch: 44 \tLoss: 2.2678777517470636\n",
            "Epoch: 45 \tLoss: 2.2114906864883626\n",
            "Epoch: 46 \tLoss: 2.1550884320672634\n",
            "Epoch: 47 \tLoss: 2.098938055270541\n",
            "Epoch: 48 \tLoss: 2.043038907040537\n",
            "Epoch: 49 \tLoss: 1.987243751772737\n",
            "Epoch: 50 \tLoss: 1.9319975281183699\n",
            "Epoch: 51 \tLoss: 1.8768896534379604\n",
            "Epoch: 52 \tLoss: 1.8223227491948457\n",
            "Epoch: 53 \tLoss: 1.7681822179429298\n",
            "Epoch: 54 \tLoss: 1.7145977760046984\n",
            "Epoch: 55 \tLoss: 1.6616470793970919\n",
            "Epoch: 56 \tLoss: 1.6093687953147213\n",
            "Epoch: 57 \tLoss: 1.557835655534162\n",
            "Epoch: 58 \tLoss: 1.5069285904147984\n",
            "Epoch: 59 \tLoss: 1.4570070523603829\n",
            "Epoch: 60 \tLoss: 1.407930980873319\n",
            "Epoch: 61 \tLoss: 1.3596702472562283\n",
            "Epoch: 62 \tLoss: 1.3126160826830737\n",
            "Epoch: 63 \tLoss: 1.266361526024025\n",
            "Epoch: 64 \tLoss: 1.2212638997398646\n",
            "Epoch: 65 \tLoss: 1.1772211275796975\n",
            "Epoch: 66 \tLoss: 1.1342905699151806\n",
            "Epoch: 67 \tLoss: 1.0926854788465838\n",
            "Epoch: 68 \tLoss: 1.0521266854706064\n",
            "Epoch: 69 \tLoss: 1.0128122926813312\n",
            "Epoch: 70 \tLoss: 0.9747296835468934\n",
            "Epoch: 71 \tLoss: 0.9379381868427834\n",
            "Epoch: 72 \tLoss: 0.9023755554076844\n",
            "Epoch: 73 \tLoss: 0.8680329349188678\n",
            "Epoch: 74 \tLoss: 0.8348787239695017\n",
            "Epoch: 75 \tLoss: 0.8030172843584972\n",
            "Epoch: 76 \tLoss: 0.772322568811674\n",
            "Epoch: 77 \tLoss: 0.7428136872111168\n",
            "Epoch: 78 \tLoss: 0.7145253255040245\n",
            "Epoch: 79 \tLoss: 0.6874104918236226\n",
            "Epoch: 80 \tLoss: 0.6613491531626313\n",
            "Epoch: 81 \tLoss: 0.6364530313727075\n",
            "Epoch: 82 \tLoss: 0.6126309206000472\n",
            "Epoch: 83 \tLoss: 0.5898069584396033\n",
            "Epoch: 84 \tLoss: 0.5680422894326986\n",
            "Epoch: 85 \tLoss: 0.5472110457124963\n",
            "Epoch: 86 \tLoss: 0.5273415601227136\n",
            "Epoch: 87 \tLoss: 0.5084022838721233\n",
            "Epoch: 88 \tLoss: 0.49028217726576645\n",
            "Epoch: 89 \tLoss: 0.4730583789997396\n",
            "Epoch: 90 \tLoss: 0.4566177964474248\n",
            "Epoch: 91 \tLoss: 0.4409519172875227\n",
            "Epoch: 92 \tLoss: 0.4260367579692233\n",
            "Epoch: 93 \tLoss: 0.41180945220774257\n",
            "Epoch: 94 \tLoss: 0.3982517334212244\n",
            "Epoch: 95 \tLoss: 0.38536381108307205\n",
            "Epoch: 96 \tLoss: 0.3731003946303266\n",
            "Epoch: 97 \tLoss: 0.36139726797036364\n",
            "Epoch: 98 \tLoss: 0.3502551355456884\n",
            "Epoch: 99 \tLoss: 0.3396421124977348\n"
          ]
        }
      ],
      "source": [
        "EMBEDDING_DIM = 100\n",
        "\n",
        "class NGramLanguageModeler(nn.Module):\n",
        "\n",
        "    def __init__(self, vocab_size, embedding_dim, context_size):\n",
        "        super().__init__()\n",
        "        self.embeddings = nn.Embedding(vocab_size, embedding_dim)\n",
        "        self.linear1 = nn.Linear(context_size * embedding_dim, 128)\n",
        "        self.linear2 = nn.Linear(128, vocab_size)\n",
        "\n",
        "    def forward(self, inputs):\n",
        "        embeds = self.embeddings(inputs).view((1, -1))\n",
        "        out = F.relu(self.linear1(embeds))\n",
        "        out = self.linear2(out)\n",
        "        log_probs = F.log_softmax(out, dim=1)\n",
        "        return log_probs\n",
        "\n",
        "\n",
        "\n",
        "loss_function = nn.NLLLoss() # Negative Log Likelihood Loss\n",
        "model = NGramLanguageModeler(len(vocab), EMBEDDING_DIM, CONTEXT_SIZE)\n",
        "optimizer = optim.SGD(model.parameters(), lr=0.001)\n",
        "\n",
        "for epoch in range(100):\n",
        "    total_loss = 0\n",
        "    for context, target in trigrams:\n",
        "\n",
        "        # Step 1. Prepare the inputs to be passed to the model (i.e, turn the words\n",
        "        # into integer indices and wrap them in tensors)\n",
        "        context_idxs = torch.tensor([word_to_ix[w] for w in context], dtype=torch.long)\n",
        "\n",
        "        # Step 2. Recall that torch *accumulates* gradients. Before passing in a\n",
        "        # new instance, you need to zero out the gradients from the old\n",
        "        # instance\n",
        "        model.zero_grad()\n",
        "\n",
        "        # Step 3. Run the forward pass, getting log probabilities over next\n",
        "        # words\n",
        "        log_probs = model(context_idxs)\n",
        "\n",
        "        # Step 4. Compute your loss function. (Again, Torch wants the target\n",
        "        # word wrapped in a tensor)\n",
        "        loss = loss_function(log_probs, torch.tensor([word_to_ix[target]], dtype=torch.long))\n",
        "\n",
        "        # Step 5. Do the backward pass and update the gradient\n",
        "        loss.backward()\n",
        "        optimizer.step()\n",
        "\n",
        "        # Get the Python number from a 1-element Tensor by calling tensor.item()\n",
        "        total_loss += loss.item()\n",
        "    average_loss= total_loss/len(trigrams)\n",
        "    print('Epoch:', epoch, '\\tLoss:', average_loss)  # The loss decreased every iteration over the training data!"
      ]
    },
    {
      "cell_type": "markdown",
      "metadata": {
        "id": "sbIE646vgfFg"
      },
      "source": [
        "##  Check the results"
      ]
    },
    {
      "cell_type": "markdown",
      "metadata": {
        "id": "x5jutiz-gfFg"
      },
      "source": [
        "We can inspect some of the word embedding values in a pandas DataFrame:"
      ]
    },
    {
      "cell_type": "code",
      "execution_count": 6,
      "metadata": {
        "scrolled": true,
        "id": "tHtQ58UmgfFg",
        "outputId": "7a566377-2886-4675-d6a0-66a8bad4cb39",
        "colab": {
          "base_uri": "https://localhost:8080/",
          "height": 255
        }
      },
      "outputs": [
        {
          "output_type": "execute_result",
          "data": {
            "text/plain": [
              "                0         1         2         3         4         5   \\\n",
              "treasure  0.865268  0.246917 -0.661687  0.808562  0.438994  1.170609   \n",
              "feel'st   0.157447  1.255645  1.328169 -0.495649 -1.979636  1.799626   \n",
              "by        0.221696 -0.574782  1.460654  1.775624 -2.017505  0.423513   \n",
              "warm      0.142870  0.202082  1.056089  0.131426  1.402501  0.484951   \n",
              "small    -0.375234 -2.414243 -1.274178 -0.062356 -1.232398 -1.065232   \n",
              "\n",
              "                6         7         8         9   ...        90        91  \\\n",
              "treasure  1.770767 -0.097809  0.059848 -0.616313  ... -1.480991 -1.136092   \n",
              "feel'st   0.098996  0.343448 -0.647432 -0.289266  ... -1.105113 -0.700554   \n",
              "by        0.574113 -1.800299  1.246142  1.274332  ...  0.247090 -0.385205   \n",
              "warm     -0.705592 -0.825702  0.101609  0.196612  ...  0.342286 -0.554335   \n",
              "small    -0.385549  0.381049 -0.205553  0.695194  ...  0.291632 -0.564697   \n",
              "\n",
              "                92        93        94        95        96        97  \\\n",
              "treasure -0.100851  0.341976 -1.073347 -0.875273  0.204463  0.307600   \n",
              "feel'st   0.236284  1.917649  1.836922  1.326012 -0.067257  0.347298   \n",
              "by       -0.201588 -0.841097 -1.555249 -0.057985  1.199711 -2.283186   \n",
              "warm     -0.961975  0.280146 -0.681718 -0.546590  1.154847 -0.399080   \n",
              "small     0.727503 -0.549433 -0.801773  0.021982 -0.150297  0.521695   \n",
              "\n",
              "                98        99  \n",
              "treasure  0.534640 -0.432993  \n",
              "feel'st  -0.654536  1.560919  \n",
              "by       -1.014073 -0.889215  \n",
              "warm      0.974391  1.542920  \n",
              "small    -0.208282 -1.255758  \n",
              "\n",
              "[5 rows x 100 columns]"
            ],
            "text/html": [
              "\n",
              "  <div id=\"df-cbe78e83-1d3a-4d59-9dc3-f32a071b59de\" class=\"colab-df-container\">\n",
              "    <div>\n",
              "<style scoped>\n",
              "    .dataframe tbody tr th:only-of-type {\n",
              "        vertical-align: middle;\n",
              "    }\n",
              "\n",
              "    .dataframe tbody tr th {\n",
              "        vertical-align: top;\n",
              "    }\n",
              "\n",
              "    .dataframe thead th {\n",
              "        text-align: right;\n",
              "    }\n",
              "</style>\n",
              "<table border=\"1\" class=\"dataframe\">\n",
              "  <thead>\n",
              "    <tr style=\"text-align: right;\">\n",
              "      <th></th>\n",
              "      <th>0</th>\n",
              "      <th>1</th>\n",
              "      <th>2</th>\n",
              "      <th>3</th>\n",
              "      <th>4</th>\n",
              "      <th>5</th>\n",
              "      <th>6</th>\n",
              "      <th>7</th>\n",
              "      <th>8</th>\n",
              "      <th>9</th>\n",
              "      <th>...</th>\n",
              "      <th>90</th>\n",
              "      <th>91</th>\n",
              "      <th>92</th>\n",
              "      <th>93</th>\n",
              "      <th>94</th>\n",
              "      <th>95</th>\n",
              "      <th>96</th>\n",
              "      <th>97</th>\n",
              "      <th>98</th>\n",
              "      <th>99</th>\n",
              "    </tr>\n",
              "  </thead>\n",
              "  <tbody>\n",
              "    <tr>\n",
              "      <th>treasure</th>\n",
              "      <td>0.865268</td>\n",
              "      <td>0.246917</td>\n",
              "      <td>-0.661687</td>\n",
              "      <td>0.808562</td>\n",
              "      <td>0.438994</td>\n",
              "      <td>1.170609</td>\n",
              "      <td>1.770767</td>\n",
              "      <td>-0.097809</td>\n",
              "      <td>0.059848</td>\n",
              "      <td>-0.616313</td>\n",
              "      <td>...</td>\n",
              "      <td>-1.480991</td>\n",
              "      <td>-1.136092</td>\n",
              "      <td>-0.100851</td>\n",
              "      <td>0.341976</td>\n",
              "      <td>-1.073347</td>\n",
              "      <td>-0.875273</td>\n",
              "      <td>0.204463</td>\n",
              "      <td>0.307600</td>\n",
              "      <td>0.534640</td>\n",
              "      <td>-0.432993</td>\n",
              "    </tr>\n",
              "    <tr>\n",
              "      <th>feel'st</th>\n",
              "      <td>0.157447</td>\n",
              "      <td>1.255645</td>\n",
              "      <td>1.328169</td>\n",
              "      <td>-0.495649</td>\n",
              "      <td>-1.979636</td>\n",
              "      <td>1.799626</td>\n",
              "      <td>0.098996</td>\n",
              "      <td>0.343448</td>\n",
              "      <td>-0.647432</td>\n",
              "      <td>-0.289266</td>\n",
              "      <td>...</td>\n",
              "      <td>-1.105113</td>\n",
              "      <td>-0.700554</td>\n",
              "      <td>0.236284</td>\n",
              "      <td>1.917649</td>\n",
              "      <td>1.836922</td>\n",
              "      <td>1.326012</td>\n",
              "      <td>-0.067257</td>\n",
              "      <td>0.347298</td>\n",
              "      <td>-0.654536</td>\n",
              "      <td>1.560919</td>\n",
              "    </tr>\n",
              "    <tr>\n",
              "      <th>by</th>\n",
              "      <td>0.221696</td>\n",
              "      <td>-0.574782</td>\n",
              "      <td>1.460654</td>\n",
              "      <td>1.775624</td>\n",
              "      <td>-2.017505</td>\n",
              "      <td>0.423513</td>\n",
              "      <td>0.574113</td>\n",
              "      <td>-1.800299</td>\n",
              "      <td>1.246142</td>\n",
              "      <td>1.274332</td>\n",
              "      <td>...</td>\n",
              "      <td>0.247090</td>\n",
              "      <td>-0.385205</td>\n",
              "      <td>-0.201588</td>\n",
              "      <td>-0.841097</td>\n",
              "      <td>-1.555249</td>\n",
              "      <td>-0.057985</td>\n",
              "      <td>1.199711</td>\n",
              "      <td>-2.283186</td>\n",
              "      <td>-1.014073</td>\n",
              "      <td>-0.889215</td>\n",
              "    </tr>\n",
              "    <tr>\n",
              "      <th>warm</th>\n",
              "      <td>0.142870</td>\n",
              "      <td>0.202082</td>\n",
              "      <td>1.056089</td>\n",
              "      <td>0.131426</td>\n",
              "      <td>1.402501</td>\n",
              "      <td>0.484951</td>\n",
              "      <td>-0.705592</td>\n",
              "      <td>-0.825702</td>\n",
              "      <td>0.101609</td>\n",
              "      <td>0.196612</td>\n",
              "      <td>...</td>\n",
              "      <td>0.342286</td>\n",
              "      <td>-0.554335</td>\n",
              "      <td>-0.961975</td>\n",
              "      <td>0.280146</td>\n",
              "      <td>-0.681718</td>\n",
              "      <td>-0.546590</td>\n",
              "      <td>1.154847</td>\n",
              "      <td>-0.399080</td>\n",
              "      <td>0.974391</td>\n",
              "      <td>1.542920</td>\n",
              "    </tr>\n",
              "    <tr>\n",
              "      <th>small</th>\n",
              "      <td>-0.375234</td>\n",
              "      <td>-2.414243</td>\n",
              "      <td>-1.274178</td>\n",
              "      <td>-0.062356</td>\n",
              "      <td>-1.232398</td>\n",
              "      <td>-1.065232</td>\n",
              "      <td>-0.385549</td>\n",
              "      <td>0.381049</td>\n",
              "      <td>-0.205553</td>\n",
              "      <td>0.695194</td>\n",
              "      <td>...</td>\n",
              "      <td>0.291632</td>\n",
              "      <td>-0.564697</td>\n",
              "      <td>0.727503</td>\n",
              "      <td>-0.549433</td>\n",
              "      <td>-0.801773</td>\n",
              "      <td>0.021982</td>\n",
              "      <td>-0.150297</td>\n",
              "      <td>0.521695</td>\n",
              "      <td>-0.208282</td>\n",
              "      <td>-1.255758</td>\n",
              "    </tr>\n",
              "  </tbody>\n",
              "</table>\n",
              "<p>5 rows × 100 columns</p>\n",
              "</div>\n",
              "    <div class=\"colab-df-buttons\">\n",
              "\n",
              "  <div class=\"colab-df-container\">\n",
              "    <button class=\"colab-df-convert\" onclick=\"convertToInteractive('df-cbe78e83-1d3a-4d59-9dc3-f32a071b59de')\"\n",
              "            title=\"Convert this dataframe to an interactive table.\"\n",
              "            style=\"display:none;\">\n",
              "\n",
              "  <svg xmlns=\"http://www.w3.org/2000/svg\" height=\"24px\" viewBox=\"0 -960 960 960\">\n",
              "    <path d=\"M120-120v-720h720v720H120Zm60-500h600v-160H180v160Zm220 220h160v-160H400v160Zm0 220h160v-160H400v160ZM180-400h160v-160H180v160Zm440 0h160v-160H620v160ZM180-180h160v-160H180v160Zm440 0h160v-160H620v160Z\"/>\n",
              "  </svg>\n",
              "    </button>\n",
              "\n",
              "  <style>\n",
              "    .colab-df-container {\n",
              "      display:flex;\n",
              "      gap: 12px;\n",
              "    }\n",
              "\n",
              "    .colab-df-convert {\n",
              "      background-color: #E8F0FE;\n",
              "      border: none;\n",
              "      border-radius: 50%;\n",
              "      cursor: pointer;\n",
              "      display: none;\n",
              "      fill: #1967D2;\n",
              "      height: 32px;\n",
              "      padding: 0 0 0 0;\n",
              "      width: 32px;\n",
              "    }\n",
              "\n",
              "    .colab-df-convert:hover {\n",
              "      background-color: #E2EBFA;\n",
              "      box-shadow: 0px 1px 2px rgba(60, 64, 67, 0.3), 0px 1px 3px 1px rgba(60, 64, 67, 0.15);\n",
              "      fill: #174EA6;\n",
              "    }\n",
              "\n",
              "    .colab-df-buttons div {\n",
              "      margin-bottom: 4px;\n",
              "    }\n",
              "\n",
              "    [theme=dark] .colab-df-convert {\n",
              "      background-color: #3B4455;\n",
              "      fill: #D2E3FC;\n",
              "    }\n",
              "\n",
              "    [theme=dark] .colab-df-convert:hover {\n",
              "      background-color: #434B5C;\n",
              "      box-shadow: 0px 1px 3px 1px rgba(0, 0, 0, 0.15);\n",
              "      filter: drop-shadow(0px 1px 2px rgba(0, 0, 0, 0.3));\n",
              "      fill: #FFFFFF;\n",
              "    }\n",
              "  </style>\n",
              "\n",
              "    <script>\n",
              "      const buttonEl =\n",
              "        document.querySelector('#df-cbe78e83-1d3a-4d59-9dc3-f32a071b59de button.colab-df-convert');\n",
              "      buttonEl.style.display =\n",
              "        google.colab.kernel.accessAllowed ? 'block' : 'none';\n",
              "\n",
              "      async function convertToInteractive(key) {\n",
              "        const element = document.querySelector('#df-cbe78e83-1d3a-4d59-9dc3-f32a071b59de');\n",
              "        const dataTable =\n",
              "          await google.colab.kernel.invokeFunction('convertToInteractive',\n",
              "                                                    [key], {});\n",
              "        if (!dataTable) return;\n",
              "\n",
              "        const docLinkHtml = 'Like what you see? Visit the ' +\n",
              "          '<a target=\"_blank\" href=https://colab.research.google.com/notebooks/data_table.ipynb>data table notebook</a>'\n",
              "          + ' to learn more about interactive tables.';\n",
              "        element.innerHTML = '';\n",
              "        dataTable['output_type'] = 'display_data';\n",
              "        await google.colab.output.renderOutput(dataTable, element);\n",
              "        const docLink = document.createElement('div');\n",
              "        docLink.innerHTML = docLinkHtml;\n",
              "        element.appendChild(docLink);\n",
              "      }\n",
              "    </script>\n",
              "  </div>\n",
              "\n",
              "\n",
              "<div id=\"df-3b760f34-d98a-45aa-ac77-69d17b1ac7ea\">\n",
              "  <button class=\"colab-df-quickchart\" onclick=\"quickchart('df-3b760f34-d98a-45aa-ac77-69d17b1ac7ea')\"\n",
              "            title=\"Suggest charts\"\n",
              "            style=\"display:none;\">\n",
              "\n",
              "<svg xmlns=\"http://www.w3.org/2000/svg\" height=\"24px\"viewBox=\"0 0 24 24\"\n",
              "     width=\"24px\">\n",
              "    <g>\n",
              "        <path d=\"M19 3H5c-1.1 0-2 .9-2 2v14c0 1.1.9 2 2 2h14c1.1 0 2-.9 2-2V5c0-1.1-.9-2-2-2zM9 17H7v-7h2v7zm4 0h-2V7h2v10zm4 0h-2v-4h2v4z\"/>\n",
              "    </g>\n",
              "</svg>\n",
              "  </button>\n",
              "\n",
              "<style>\n",
              "  .colab-df-quickchart {\n",
              "      --bg-color: #E8F0FE;\n",
              "      --fill-color: #1967D2;\n",
              "      --hover-bg-color: #E2EBFA;\n",
              "      --hover-fill-color: #174EA6;\n",
              "      --disabled-fill-color: #AAA;\n",
              "      --disabled-bg-color: #DDD;\n",
              "  }\n",
              "\n",
              "  [theme=dark] .colab-df-quickchart {\n",
              "      --bg-color: #3B4455;\n",
              "      --fill-color: #D2E3FC;\n",
              "      --hover-bg-color: #434B5C;\n",
              "      --hover-fill-color: #FFFFFF;\n",
              "      --disabled-bg-color: #3B4455;\n",
              "      --disabled-fill-color: #666;\n",
              "  }\n",
              "\n",
              "  .colab-df-quickchart {\n",
              "    background-color: var(--bg-color);\n",
              "    border: none;\n",
              "    border-radius: 50%;\n",
              "    cursor: pointer;\n",
              "    display: none;\n",
              "    fill: var(--fill-color);\n",
              "    height: 32px;\n",
              "    padding: 0;\n",
              "    width: 32px;\n",
              "  }\n",
              "\n",
              "  .colab-df-quickchart:hover {\n",
              "    background-color: var(--hover-bg-color);\n",
              "    box-shadow: 0 1px 2px rgba(60, 64, 67, 0.3), 0 1px 3px 1px rgba(60, 64, 67, 0.15);\n",
              "    fill: var(--button-hover-fill-color);\n",
              "  }\n",
              "\n",
              "  .colab-df-quickchart-complete:disabled,\n",
              "  .colab-df-quickchart-complete:disabled:hover {\n",
              "    background-color: var(--disabled-bg-color);\n",
              "    fill: var(--disabled-fill-color);\n",
              "    box-shadow: none;\n",
              "  }\n",
              "\n",
              "  .colab-df-spinner {\n",
              "    border: 2px solid var(--fill-color);\n",
              "    border-color: transparent;\n",
              "    border-bottom-color: var(--fill-color);\n",
              "    animation:\n",
              "      spin 1s steps(1) infinite;\n",
              "  }\n",
              "\n",
              "  @keyframes spin {\n",
              "    0% {\n",
              "      border-color: transparent;\n",
              "      border-bottom-color: var(--fill-color);\n",
              "      border-left-color: var(--fill-color);\n",
              "    }\n",
              "    20% {\n",
              "      border-color: transparent;\n",
              "      border-left-color: var(--fill-color);\n",
              "      border-top-color: var(--fill-color);\n",
              "    }\n",
              "    30% {\n",
              "      border-color: transparent;\n",
              "      border-left-color: var(--fill-color);\n",
              "      border-top-color: var(--fill-color);\n",
              "      border-right-color: var(--fill-color);\n",
              "    }\n",
              "    40% {\n",
              "      border-color: transparent;\n",
              "      border-right-color: var(--fill-color);\n",
              "      border-top-color: var(--fill-color);\n",
              "    }\n",
              "    60% {\n",
              "      border-color: transparent;\n",
              "      border-right-color: var(--fill-color);\n",
              "    }\n",
              "    80% {\n",
              "      border-color: transparent;\n",
              "      border-right-color: var(--fill-color);\n",
              "      border-bottom-color: var(--fill-color);\n",
              "    }\n",
              "    90% {\n",
              "      border-color: transparent;\n",
              "      border-bottom-color: var(--fill-color);\n",
              "    }\n",
              "  }\n",
              "</style>\n",
              "\n",
              "  <script>\n",
              "    async function quickchart(key) {\n",
              "      const quickchartButtonEl =\n",
              "        document.querySelector('#' + key + ' button');\n",
              "      quickchartButtonEl.disabled = true;  // To prevent multiple clicks.\n",
              "      quickchartButtonEl.classList.add('colab-df-spinner');\n",
              "      try {\n",
              "        const charts = await google.colab.kernel.invokeFunction(\n",
              "            'suggestCharts', [key], {});\n",
              "      } catch (error) {\n",
              "        console.error('Error during call to suggestCharts:', error);\n",
              "      }\n",
              "      quickchartButtonEl.classList.remove('colab-df-spinner');\n",
              "      quickchartButtonEl.classList.add('colab-df-quickchart-complete');\n",
              "    }\n",
              "    (() => {\n",
              "      let quickchartButtonEl =\n",
              "        document.querySelector('#df-3b760f34-d98a-45aa-ac77-69d17b1ac7ea button');\n",
              "      quickchartButtonEl.style.display =\n",
              "        google.colab.kernel.accessAllowed ? 'block' : 'none';\n",
              "    })();\n",
              "  </script>\n",
              "</div>\n",
              "\n",
              "    </div>\n",
              "  </div>\n"
            ],
            "application/vnd.google.colaboratory.intrinsic+json": {
              "type": "dataframe"
            }
          },
          "metadata": {},
          "execution_count": 6
        }
      ],
      "source": [
        "import pandas as pd\n",
        "embeddings = model.embeddings(torch.Tensor([list(range(0,len(vocab)))]).long())\n",
        "embeddings = embeddings.view(-1,100)\n",
        "pd.DataFrame(embeddings.tolist(), index=list(ix_to_word.values())[0:]).head()"
      ]
    },
    {
      "cell_type": "markdown",
      "metadata": {
        "id": "WXoD9T8vgfFh"
      },
      "source": [
        "We can also plot the embeddings with TSNE to visualize the similarity"
      ]
    },
    {
      "cell_type": "code",
      "execution_count": 7,
      "metadata": {
        "id": "QaH8UsQ0gfFh"
      },
      "outputs": [],
      "source": [
        "labels=[]\n",
        "for i in range(len(ix_to_word)):\n",
        "    labels.append(ix_to_word[i])"
      ]
    },
    {
      "cell_type": "code",
      "execution_count": 8,
      "metadata": {
        "scrolled": true,
        "id": "WTBqll5DgfFh",
        "outputId": "1e575d2f-640c-4450-c487-438f06c81a54",
        "colab": {
          "base_uri": "https://localhost:8080/",
          "height": 830
        }
      },
      "outputs": [
        {
          "output_type": "display_data",
          "data": {
            "text/plain": [
              "<Figure size 1000x1000 with 1 Axes>"
            ],
            "image/png": "[encoded data removed]"
          },
          "metadata": {}
        }
      ],
      "source": [
        "from matplotlib import pylab\n",
        "from sklearn.manifold import TSNE\n",
        "\n",
        "tsne = TSNE(n_components=2)\n",
        "two_d_embeddings = tsne.fit_transform(embeddings.detach().numpy())\n",
        "\n",
        "def plot(embeddings, labels):\n",
        "      assert embeddings.shape[0] >= len(labels), 'More labels than embeddings'\n",
        "      pylab.figure(figsize=(10,10))  # in inches\n",
        "      for i, label in enumerate(labels):\n",
        "        x, y = embeddings[i,:]\n",
        "        pylab.scatter(x, y)\n",
        "        pylab.annotate(label, xy=(x, y), xytext=(5, 2), textcoords='offset points',\n",
        "                       ha='right', va='bottom')\n",
        "      pylab.show()\n",
        "\n",
        "\n",
        "plot(two_d_embeddings, labels)"
      ]
    },
    {
      "cell_type": "code",
      "execution_count": 9,
      "metadata": {
        "id": "l9_OXQ33gfFh",
        "outputId": "cf6e7e20-5e6f-4d3f-9992-7b7730657c8d",
        "colab": {
          "base_uri": "https://localhost:8080/"
        }
      },
      "outputs": [
        {
          "output_type": "stream",
          "name": "stdout",
          "text": [
            "Raw text: When forty winters shall besiege thy brow, And dig deep trenches in thy beauty's field, Thy youth's proud livery so gazed on now, Will be a totter'd weed of small worth held: Then being asked, where all thy beauty lies, Where all the treasure of thy lusty days; To say, within thine own deep sunken eyes, Were an all-eating shame, and thriftless praise. How much more praise deserv'd thy beauty's use, If thou couldst answer 'This fair child of mine Shall sum my count, and make my old excuse,' Proving his beauty by succession thine! This were to be new made when thou art old, And see thy blood warm when thou feel'st it cold.\n",
            "\n",
            "Context: ['When', 'forty']\n",
            "\n",
            "Prediction: winters\n"
          ]
        }
      ],
      "source": [
        "context = ['When','forty']\n",
        "\n",
        "a = model(torch.tensor([word_to_ix[w] for w in context]))\n",
        "\n",
        "#Print result\n",
        "print(f'Raw text: {\" \".join(test_sentence)}\\n')\n",
        "print(f'Context: {context}\\n')\n",
        "print(f'Prediction: {ix_to_word[torch.argmax(a[0]).item()]}')"
      ]
    },
    {
      "cell_type": "markdown",
      "metadata": {
        "id": "TuCM5LSqjR4V"
      },
      "source": [
        "# Practical part  1: Computing Word Embeddings -- Continuous Bag-of-Words in a Toy example\n",
        "\n",
        "\n",
        "The Continuous Bag-of-Words model (CBOW) is frequently used in NLP deep\n",
        "learning. It is a model that tries to predict words given the context of\n",
        "a few words before and a few words after the target word. This is\n",
        "distinct from typical practices in language modeling, since CBOW is not sequential and does\n",
        "not have to be probabilistic. Typcially, CBOW is used to quickly train\n",
        "word embeddings, and these embeddings are used to initialize the\n",
        "embeddings of some more complicated model. Usually, this is referred to\n",
        "as *pretraining embeddings*. It almost always helps performance a couple\n",
        "of percent.\n",
        "\n",
        "The CBOW model is as follows. Given a target word $w_i$ and an\n",
        "$N$ context window on each side, $w_{i-1}, \\dots, w_{i-N}$\n",
        "and $w_{i+1}, \\dots, w_{i+N}$, referring to all context words\n",
        "collectively as $C$, CBOW tries to minimize\n",
        "\n",
        "\\begin{align}-\\log p(w_i | C) = -\\log \\text{Softmax}(A(\\sum_{w \\in C} q_w) + b)\\end{align}\n",
        "\n",
        "where $q_w$ is the embedding for word $w$.\n",
        "\n",
        "Implement this model in Pytorch by filling in the class below. Some\n",
        "tips:\n",
        "\n",
        "* Think about which parameters you need to define.\n",
        "* Make sure you know what shape each operation expects. Use .view() if you need to\n",
        "  reshape.\n",
        "\n"
      ]
    },
    {
      "cell_type": "markdown",
      "metadata": {
        "id": "R9gorBCugfFh"
      },
      "source": [
        "##  Data Preprocessing\n",
        "\n",
        "The CBOW model architecture tries to predict the current target word (the center word) based on the source context words (surrounding words). Considering a simple sentence, `the quick brown fox jumps over the lazy dog`, this can be pairs of (context_window, target_word) where if we consider a context size 2 (2 words to the left, 2 to the right),  we have examples like `([the, quick, fox, jumps], brown)` and so on. Thus the model tries to predict the target_word based on the context_window words.\n",
        "\n",
        "\n",
        "Therefore should build a list of tuples.  Each tuple is `([ word_i-2, word_i-1,word_i+1, word_i+2 ], target word)`, we also build dictionaries to map from words to indices, i.e. word_to_ix, and map from indices to words, i.e. ix_to_word,"
      ]
    },
    {
      "cell_type": "code",
      "execution_count": 10,
      "metadata": {
        "id": "GGLmRF8KgfFi",
        "outputId": "36252d1b-41f4-49ae-dc24-48f68f260bf8",
        "colab": {
          "base_uri": "https://localhost:8080/"
        }
      },
      "outputs": [
        {
          "output_type": "stream",
          "name": "stdout",
          "text": [
            "[(['We', 'are', 'to', 'study'], 'about'), (['are', 'about', 'study', 'the'], 'to'), (['about', 'to', 'the', 'idea'], 'study'), (['to', 'study', 'idea', 'of'], 'the'), (['study', 'the', 'of', 'a'], 'idea')]\n"
          ]
        }
      ],
      "source": [
        "import torch\n",
        "import torch.nn as nn\n",
        "\n",
        "\n",
        "CONTEXT_SIZE = 2  # 2 words to the left, 2 to the right\n",
        "EMBEDDING_DIM = 100\n",
        "\n",
        "raw_text = \"\"\"We are about to study the idea of a computational process.\n",
        "Computational processes are abstract beings that inhabit computers.\n",
        "As they evolve, processes manipulate other abstract things called data.\n",
        "The evolution of a process is directed by a pattern of rules\n",
        "called a program. People create programs to direct processes. In effect,\n",
        "we conjure the spirits of the computer with our spells.\"\"\".split()\n",
        "\n",
        "\n",
        "# By deriving a set from `raw_text`, we deduplicate the array\n",
        "vocab = set(raw_text)\n",
        "vocab_size = len(vocab)\n",
        "\n",
        "word_to_ix = {word:ix for ix, word in enumerate(vocab)}\n",
        "ix_to_word = {ix:word for ix, word in enumerate(vocab)}\n",
        "\n",
        "data = []\n",
        "for i in range(2, len(raw_text) - 2):\n",
        "    context = [raw_text[i - 2], raw_text[i - 1],\n",
        "               raw_text[i + 1], raw_text[i + 2]]\n",
        "    target = raw_text[i]\n",
        "    data.append((context, target))\n",
        "\n",
        "print(data[:5])"
      ]
    },
    {
      "cell_type": "markdown",
      "metadata": {
        "id": "3t6kcD-mgfFi"
      },
      "source": [
        "\n",
        "## Create CBoW Model\n",
        "Following is an image to illustrate the model architecture. We set the word embedding size to be 100 (or other by your preference)."
      ]
    },
    {
      "cell_type": "markdown",
      "metadata": {
        "id": "tuqdGmzYgfFi"
      },
      "source": [
        "![avatar](https://miro.medium.com/max/328/1*bkrBASpteKfCaxZDEEeN6g.png)"
      ]
    },
    {
      "cell_type": "code",
      "execution_count": 11,
      "metadata": {
        "id": "c83HvD2hjR4W",
        "scrolled": true,
        "collapsed": true,
        "outputId": "3914d7ad-d023-42bc-fd04-f4ac863d26e6",
        "colab": {
          "base_uri": "https://localhost:8080/"
        }
      },
      "outputs": [
        {
          "output_type": "stream",
          "name": "stdout",
          "text": [
            "Epoch: 0 \tLoss: 3.9094424124421745\n",
            "Epoch: 1 \tLoss: 3.901399456221482\n",
            "Epoch: 2 \tLoss: 3.8933968831752908\n",
            "Epoch: 3 \tLoss: 3.8854456687795706\n",
            "Epoch: 4 \tLoss: 3.877523759315754\n",
            "Epoch: 5 \tLoss: 3.869611719558979\n",
            "Epoch: 6 \tLoss: 3.861690118395049\n",
            "Epoch: 7 \tLoss: 3.853786591825814\n",
            "Epoch: 8 \tLoss: 3.845905398500377\n",
            "Epoch: 9 \tLoss: 3.838030515045955\n",
            "Epoch: 10 \tLoss: 3.830149005199301\n",
            "Epoch: 11 \tLoss: 3.822280978334361\n",
            "Epoch: 12 \tLoss: 3.814408984677545\n",
            "Epoch: 13 \tLoss: 3.806524186298765\n",
            "Epoch: 14 \tLoss: 3.7986178685878884\n",
            "Epoch: 15 \tLoss: 3.7907037241705535\n",
            "Epoch: 16 \tLoss: 3.782810297505609\n",
            "Epoch: 17 \tLoss: 3.7749274475821135\n",
            "Epoch: 18 \tLoss: 3.767047351804273\n",
            "Epoch: 19 \tLoss: 3.7591880888774476\n",
            "Epoch: 20 \tLoss: 3.751318438299771\n",
            "Epoch: 21 \tLoss: 3.7434344908286787\n",
            "Epoch: 22 \tLoss: 3.735510727454876\n",
            "Epoch: 23 \tLoss: 3.727553293622773\n",
            "Epoch: 24 \tLoss: 3.719559751707932\n",
            "Epoch: 25 \tLoss: 3.7115376283382546\n",
            "Epoch: 26 \tLoss: 3.703482114035508\n",
            "Epoch: 27 \tLoss: 3.6953950339350206\n",
            "Epoch: 28 \tLoss: 3.687281847000122\n",
            "Epoch: 29 \tLoss: 3.6791417064337897\n",
            "Epoch: 30 \tLoss: 3.670973440696453\n",
            "Epoch: 31 \tLoss: 3.6627785008529137\n",
            "Epoch: 32 \tLoss: 3.65455908610903\n",
            "Epoch: 33 \tLoss: 3.6463131000255715\n",
            "Epoch: 34 \tLoss: 3.638014719404023\n",
            "Epoch: 35 \tLoss: 3.629675186913589\n",
            "Epoch: 36 \tLoss: 3.6212910948128534\n",
            "Epoch: 37 \tLoss: 3.6128713879091987\n",
            "Epoch: 38 \tLoss: 3.60440875332931\n",
            "Epoch: 39 \tLoss: 3.595901711233731\n",
            "Epoch: 40 \tLoss: 3.587329556202066\n",
            "Epoch: 41 \tLoss: 3.578728642956964\n",
            "Epoch: 42 \tLoss: 3.570048480198301\n",
            "Epoch: 43 \tLoss: 3.5613162435334305\n",
            "Epoch: 44 \tLoss: 3.5525257957392724\n",
            "Epoch: 45 \tLoss: 3.5436536197004647\n",
            "Epoch: 46 \tLoss: 3.534730385089743\n",
            "Epoch: 47 \tLoss: 3.5257560919071067\n",
            "Epoch: 48 \tLoss: 3.516701677749897\n",
            "Epoch: 49 \tLoss: 3.5075984987719306\n",
            "Epoch: 50 \tLoss: 3.4984203823681534\n",
            "Epoch: 51 \tLoss: 3.48917961531672\n",
            "Epoch: 52 \tLoss: 3.479872904974839\n",
            "Epoch: 53 \tLoss: 3.470527986000324\n",
            "Epoch: 54 \tLoss: 3.46110029467221\n",
            "Epoch: 55 \tLoss: 3.4516218777360588\n",
            "Epoch: 56 \tLoss: 3.4420402461084825\n",
            "Epoch: 57 \tLoss: 3.4324131916309226\n",
            "Epoch: 58 \tLoss: 3.422724193540113\n",
            "Epoch: 59 \tLoss: 3.412958831622683\n",
            "Epoch: 60 \tLoss: 3.4031403352474343\n",
            "Epoch: 61 \tLoss: 3.393254206098359\n",
            "Epoch: 62 \tLoss: 3.3833213140224587\n",
            "Epoch: 63 \tLoss: 3.3733158892598647\n",
            "Epoch: 64 \tLoss: 3.3632630274213593\n",
            "Epoch: 65 \tLoss: 3.353156426857258\n",
            "Epoch: 66 \tLoss: 3.3429743462595445\n",
            "Epoch: 67 \tLoss: 3.3327338120033003\n",
            "Epoch: 68 \tLoss: 3.3224147928172143\n",
            "Epoch: 69 \tLoss: 3.3120231792844574\n",
            "Epoch: 70 \tLoss: 3.301594629369933\n",
            "Epoch: 71 \tLoss: 3.2910634525891007\n",
            "Epoch: 72 \tLoss: 3.280506972608895\n",
            "Epoch: 73 \tLoss: 3.269871035526539\n",
            "Epoch: 74 \tLoss: 3.259180963039398\n",
            "Epoch: 75 \tLoss: 3.2484446250159165\n",
            "Epoch: 76 \tLoss: 3.237616473230822\n",
            "Epoch: 77 \tLoss: 3.226760847815152\n",
            "Epoch: 78 \tLoss: 3.215799200123754\n",
            "Epoch: 79 \tLoss: 3.204798873128562\n",
            "Epoch: 80 \tLoss: 3.193722433057325\n",
            "Epoch: 81 \tLoss: 3.182605564594269\n",
            "Epoch: 82 \tLoss: 3.1714106613192063\n",
            "Epoch: 83 \tLoss: 3.16016725013996\n",
            "Epoch: 84 \tLoss: 3.1488543296682425\n",
            "Epoch: 85 \tLoss: 3.1375075619796227\n",
            "Epoch: 86 \tLoss: 3.1260997673560835\n",
            "Epoch: 87 \tLoss: 3.114631648721366\n",
            "Epoch: 88 \tLoss: 3.103147921891048\n",
            "Epoch: 89 \tLoss: 3.0915708171910254\n",
            "Epoch: 90 \tLoss: 3.079983883890612\n",
            "Epoch: 91 \tLoss: 3.06832872588059\n",
            "Epoch: 92 \tLoss: 3.056578654667427\n",
            "Epoch: 93 \tLoss: 3.0448134541511536\n",
            "Epoch: 94 \tLoss: 3.032959356390197\n",
            "Epoch: 95 \tLoss: 3.0210484923987555\n",
            "Epoch: 96 \tLoss: 3.009075939655304\n",
            "Epoch: 97 \tLoss: 2.997064635671418\n",
            "Epoch: 98 \tLoss: 2.984998074071161\n",
            "Epoch: 99 \tLoss: 2.972865552737795\n",
            "Epoch: 100 \tLoss: 2.9606768941057138\n",
            "Epoch: 101 \tLoss: 2.9484205554271568\n",
            "Epoch: 102 \tLoss: 2.9361133287692893\n",
            "Epoch: 103 \tLoss: 2.9237331275282235\n",
            "Epoch: 104 \tLoss: 2.91132416807372\n",
            "Epoch: 105 \tLoss: 2.8988384296154153\n",
            "Epoch: 106 \tLoss: 2.88631488331433\n",
            "Epoch: 107 \tLoss: 2.8737007872811677\n",
            "Epoch: 108 \tLoss: 2.861049201981775\n",
            "Epoch: 109 \tLoss: 2.848309484021417\n",
            "Epoch: 110 \tLoss: 2.835540093224624\n",
            "Epoch: 111 \tLoss: 2.822686524226748\n",
            "Epoch: 112 \tLoss: 2.809777327652635\n",
            "Epoch: 113 \tLoss: 2.796820913923198\n",
            "Epoch: 114 \tLoss: 2.7837818449941176\n",
            "Epoch: 115 \tLoss: 2.77067178693311\n",
            "Epoch: 116 \tLoss: 2.7574762825308174\n",
            "Epoch: 117 \tLoss: 2.744237336619147\n",
            "Epoch: 118 \tLoss: 2.73088754662152\n",
            "Epoch: 119 \tLoss: 2.717503181819258\n",
            "Epoch: 120 \tLoss: 2.7040579668406783\n",
            "Epoch: 121 \tLoss: 2.6905533260312575\n",
            "Epoch: 122 \tLoss: 2.676997604041264\n",
            "Epoch: 123 \tLoss: 2.6633304624721923\n",
            "Epoch: 124 \tLoss: 2.649652973331254\n",
            "Epoch: 125 \tLoss: 2.6358720290249793\n",
            "Epoch: 126 \tLoss: 2.622088539189306\n",
            "Epoch: 127 \tLoss: 2.60818537247592\n",
            "Epoch: 128 \tLoss: 2.594206953870839\n",
            "Epoch: 129 \tLoss: 2.5801955985611884\n",
            "Epoch: 130 \tLoss: 2.566089942537505\n",
            "Epoch: 131 \tLoss: 2.5519555026087266\n",
            "Epoch: 132 \tLoss: 2.5377889666064033\n",
            "Epoch: 133 \tLoss: 2.5235005791844993\n",
            "Epoch: 134 \tLoss: 2.509238453774617\n",
            "Epoch: 135 \tLoss: 2.494887146456488\n",
            "Epoch: 136 \tLoss: 2.480487569652755\n",
            "Epoch: 137 \tLoss: 2.466025026707814\n",
            "Epoch: 138 \tLoss: 2.4514963781011514\n",
            "Epoch: 139 \tLoss: 2.4369260658477914\n",
            "Epoch: 140 \tLoss: 2.422300063330552\n",
            "Epoch: 141 \tLoss: 2.4076062677235437\n",
            "Epoch: 142 \tLoss: 2.3929073933897347\n",
            "Epoch: 143 \tLoss: 2.3781191614167443\n",
            "Epoch: 144 \tLoss: 2.363359333112322\n",
            "Epoch: 145 \tLoss: 2.348487031870875\n",
            "Epoch: 146 \tLoss: 2.3336107823355445\n",
            "Epoch: 147 \tLoss: 2.318718305949507\n",
            "Epoch: 148 \tLoss: 2.3037099447743645\n",
            "Epoch: 149 \tLoss: 2.2887331750886193\n",
            "Epoch: 150 \tLoss: 2.27363956488412\n",
            "Epoch: 151 \tLoss: 2.2585843842605065\n",
            "Epoch: 152 \tLoss: 2.243463759792262\n",
            "Epoch: 153 \tLoss: 2.2283108018595597\n",
            "Epoch: 154 \tLoss: 2.2131311009670127\n",
            "Epoch: 155 \tLoss: 2.1978910719526223\n",
            "Epoch: 156 \tLoss: 2.1826668402244307\n",
            "Epoch: 157 \tLoss: 2.1674097745582976\n",
            "Epoch: 158 \tLoss: 2.152080139209484\n",
            "Epoch: 159 \tLoss: 2.136764897354718\n",
            "Epoch: 160 \tLoss: 2.1213776006780822\n",
            "Epoch: 161 \tLoss: 2.106028943226255\n",
            "Epoch: 162 \tLoss: 2.0906142099150298\n",
            "Epoch: 163 \tLoss: 2.0751982238785973\n",
            "Epoch: 164 \tLoss: 2.0597625755030533\n",
            "Epoch: 165 \tLoss: 2.0442968473352234\n",
            "Epoch: 166 \tLoss: 2.028842511875876\n",
            "Epoch: 167 \tLoss: 2.013403651015512\n",
            "Epoch: 168 \tLoss: 1.997943067345126\n",
            "Epoch: 169 \tLoss: 1.9824605080588111\n",
            "Epoch: 170 \tLoss: 1.9670261339894657\n",
            "Epoch: 171 \tLoss: 1.9515602208417038\n",
            "Epoch: 172 \tLoss: 1.9361076971580242\n",
            "Epoch: 173 \tLoss: 1.9206586223224114\n",
            "Epoch: 174 \tLoss: 1.9052315847627048\n",
            "Epoch: 175 \tLoss: 1.8897776305675507\n",
            "Epoch: 176 \tLoss: 1.8743591205827121\n",
            "Epoch: 177 \tLoss: 1.858966933756039\n",
            "Epoch: 178 \tLoss: 1.843578068860646\n",
            "Epoch: 179 \tLoss: 1.8282021294380058\n",
            "Epoch: 180 \tLoss: 1.8128769875600421\n",
            "Epoch: 181 \tLoss: 1.7975256669110264\n",
            "Epoch: 182 \tLoss: 1.7822057620204728\n",
            "Epoch: 183 \tLoss: 1.7669366921844154\n",
            "Epoch: 184 \tLoss: 1.751676039962933\n",
            "Epoch: 185 \tLoss: 1.7364614754915237\n",
            "Epoch: 186 \tLoss: 1.721254072312651\n",
            "Epoch: 187 \tLoss: 1.70607340181696\n",
            "Epoch: 188 \tLoss: 1.6909487858928482\n",
            "Epoch: 189 \tLoss: 1.6758885902577434\n",
            "Epoch: 190 \tLoss: 1.6608329194373097\n",
            "Epoch: 191 \tLoss: 1.645864717405418\n",
            "Epoch: 192 \tLoss: 1.6308917351837815\n",
            "Epoch: 193 \tLoss: 1.6159600199296558\n",
            "Epoch: 194 \tLoss: 1.6011237106446563\n",
            "Epoch: 195 \tLoss: 1.5862854138530533\n",
            "Epoch: 196 \tLoss: 1.571514144539833\n",
            "Epoch: 197 \tLoss: 1.556793486763691\n",
            "Epoch: 198 \tLoss: 1.542137079711618\n",
            "Epoch: 199 \tLoss: 1.5275081365272916\n",
            "Epoch: 200 \tLoss: 1.5129803054291626\n",
            "Epoch: 201 \tLoss: 1.4984689945804661\n",
            "Epoch: 202 \tLoss: 1.4840464252850105\n",
            "Epoch: 203 \tLoss: 1.4696684752045006\n",
            "Epoch: 204 \tLoss: 1.4553714045162858\n",
            "Epoch: 205 \tLoss: 1.4411022108176659\n",
            "Epoch: 206 \tLoss: 1.4269514017063996\n",
            "Epoch: 207 \tLoss: 1.4128534526660526\n",
            "Epoch: 208 \tLoss: 1.3987877872483483\n",
            "Epoch: 209 \tLoss: 1.3848414534124835\n",
            "Epoch: 210 \tLoss: 1.3709835307351474\n",
            "Epoch: 211 \tLoss: 1.3571735856861904\n",
            "Epoch: 212 \tLoss: 1.343444173705989\n",
            "Epoch: 213 \tLoss: 1.3298110710135822\n",
            "Epoch: 214 \tLoss: 1.3162238001823425\n",
            "Epoch: 215 \tLoss: 1.3027640293384422\n",
            "Epoch: 216 \tLoss: 1.2893848239347852\n",
            "Epoch: 217 \tLoss: 1.2760609768587967\n",
            "Epoch: 218 \tLoss: 1.2628611043609421\n",
            "Epoch: 219 \tLoss: 1.24971883923843\n",
            "Epoch: 220 \tLoss: 1.236663427332352\n",
            "Epoch: 221 \tLoss: 1.2237184869832005\n",
            "Epoch: 222 \tLoss: 1.2108549598989815\n",
            "Epoch: 223 \tLoss: 1.1981139681462585\n",
            "Epoch: 224 \tLoss: 1.185403333141886\n",
            "Epoch: 225 \tLoss: 1.1728477385537377\n",
            "Epoch: 226 \tLoss: 1.1603460907936096\n",
            "Epoch: 227 \tLoss: 1.1479797943912704\n",
            "Epoch: 228 \tLoss: 1.1357024373679325\n",
            "Epoch: 229 \tLoss: 1.1235176828400841\n",
            "Epoch: 230 \tLoss: 1.1114473928665292\n",
            "Epoch: 231 \tLoss: 1.0994671588313991\n",
            "Epoch: 232 \tLoss: 1.087600700557232\n",
            "Epoch: 233 \tLoss: 1.075844494176322\n",
            "Epoch: 234 \tLoss: 1.0641710395956863\n",
            "Epoch: 235 \tLoss: 1.0526395309074172\n",
            "Epoch: 236 \tLoss: 1.0411553930105835\n",
            "Epoch: 237 \tLoss: 1.0298161064756328\n",
            "Epoch: 238 \tLoss: 1.0185748205102723\n",
            "Epoch: 239 \tLoss: 1.0074539279629444\n",
            "Epoch: 240 \tLoss: 0.9964041668793251\n",
            "Epoch: 241 \tLoss: 0.9854662734372862\n",
            "Epoch: 242 \tLoss: 0.9746755130332092\n",
            "Epoch: 243 \tLoss: 0.9639686646646467\n",
            "Epoch: 244 \tLoss: 0.953375134488632\n",
            "Epoch: 245 \tLoss: 0.9428936600171286\n",
            "Epoch: 246 \tLoss: 0.9325048286339332\n",
            "Epoch: 247 \tLoss: 0.9222708043867144\n",
            "Epoch: 248 \tLoss: 0.9120761418137057\n",
            "Epoch: 249 \tLoss: 0.9020393940395323\n",
            "Epoch: 250 \tLoss: 0.8921005599971475\n",
            "Epoch: 251 \tLoss: 0.8822497265606091\n",
            "Epoch: 252 \tLoss: 0.8725235850132745\n",
            "Epoch: 253 \tLoss: 0.862902665189628\n",
            "Epoch: 254 \tLoss: 0.8533982621698544\n",
            "Epoch: 255 \tLoss: 0.8439969482093022\n",
            "Epoch: 256 \tLoss: 0.8346811679416689\n",
            "Epoch: 257 \tLoss: 0.8255190589818461\n",
            "Epoch: 258 \tLoss: 0.8164123522824255\n",
            "Epoch: 259 \tLoss: 0.8074656891925581\n",
            "Epoch: 260 \tLoss: 0.7985700890421867\n",
            "Epoch: 261 \tLoss: 0.7898281098439776\n",
            "Epoch: 262 \tLoss: 0.7811593500704601\n",
            "Epoch: 263 \tLoss: 0.7726097600213413\n",
            "Epoch: 264 \tLoss: 0.7641461095933256\n",
            "Epoch: 265 \tLoss: 0.7558069051853542\n",
            "Epoch: 266 \tLoss: 0.7475571491081139\n",
            "Epoch: 267 \tLoss: 0.739409224226557\n",
            "Epoch: 268 \tLoss: 0.7313626241581194\n",
            "Epoch: 269 \tLoss: 0.7234169994962627\n",
            "Epoch: 270 \tLoss: 0.7155596598468977\n",
            "Epoch: 271 \tLoss: 0.7078168929137033\n",
            "Epoch: 272 \tLoss: 0.700173278050176\n",
            "Epoch: 273 \tLoss: 0.6925984176582304\n",
            "Epoch: 274 \tLoss: 0.6851482789578109\n",
            "Epoch: 275 \tLoss: 0.6777859119505718\n",
            "Epoch: 276 \tLoss: 0.6705208926879126\n",
            "Epoch: 277 \tLoss: 0.6633384980518242\n",
            "Epoch: 278 \tLoss: 0.6562417442428654\n",
            "Epoch: 279 \tLoss: 0.649233070940807\n",
            "Epoch: 280 \tLoss: 0.6423469609741507\n",
            "Epoch: 281 \tLoss: 0.6355391453052389\n",
            "Epoch: 282 \tLoss: 0.6287949848277815\n",
            "Epoch: 283 \tLoss: 0.622180652258725\n",
            "Epoch: 284 \tLoss: 0.6156119105630907\n",
            "Epoch: 285 \tLoss: 0.6091469313050139\n",
            "Epoch: 286 \tLoss: 0.6027564671019028\n",
            "Epoch: 287 \tLoss: 0.5964792388780363\n",
            "Epoch: 288 \tLoss: 0.5902586789994404\n",
            "Epoch: 289 \tLoss: 0.5841353250474766\n",
            "Epoch: 290 \tLoss: 0.5780641926002914\n",
            "Epoch: 291 \tLoss: 0.5721219801183405\n",
            "Epoch: 292 \tLoss: 0.5662170295314543\n",
            "Epoch: 293 \tLoss: 0.5604279282791861\n",
            "Epoch: 294 \tLoss: 0.5546773534653515\n",
            "Epoch: 295 \tLoss: 0.5490389396918232\n",
            "Epoch: 296 \tLoss: 0.5434538519074177\n",
            "Epoch: 297 \tLoss: 0.537957254283387\n",
            "Epoch: 298 \tLoss: 0.5325279202440689\n",
            "Epoch: 299 \tLoss: 0.5271692922146156\n",
            "Epoch: 300 \tLoss: 0.521883270863829\n",
            "Epoch: 301 \tLoss: 0.5166777621569305\n",
            "Epoch: 302 \tLoss: 0.5115349955599884\n",
            "Epoch: 303 \tLoss: 0.506460708790812\n",
            "Epoch: 304 \tLoss: 0.501463804522465\n",
            "Epoch: 305 \tLoss: 0.4965206628729557\n",
            "Epoch: 306 \tLoss: 0.4916580346380842\n",
            "Epoch: 307 \tLoss: 0.48684975106654493\n",
            "Epoch: 308 \tLoss: 0.48210997095909613\n",
            "Epoch: 309 \tLoss: 0.477443251373439\n",
            "Epoch: 310 \tLoss: 0.47282675358242005\n",
            "Epoch: 311 \tLoss: 0.46828411262610864\n",
            "Epoch: 312 \tLoss: 0.46378150890613423\n",
            "Epoch: 313 \tLoss: 0.45936706353878154\n",
            "Epoch: 314 \tLoss: 0.45498957510652216\n",
            "Epoch: 315 \tLoss: 0.45068214525436534\n",
            "Epoch: 316 \tLoss: 0.4464259648631359\n",
            "Epoch: 317 \tLoss: 0.4422292762018483\n",
            "Epoch: 318 \tLoss: 0.4380953586820898\n",
            "Epoch: 319 \tLoss: 0.43400849787325696\n",
            "Epoch: 320 \tLoss: 0.4299757470344675\n",
            "Epoch: 321 \tLoss: 0.4260089135375516\n",
            "Epoch: 322 \tLoss: 0.4220702673854499\n",
            "Epoch: 323 \tLoss: 0.41820788075184\n",
            "Epoch: 324 \tLoss: 0.4143768159736847\n",
            "Epoch: 325 \tLoss: 0.410615258047293\n",
            "Epoch: 326 \tLoss: 0.40689099220366315\n",
            "Epoch: 327 \tLoss: 0.4032214203014456\n",
            "Epoch: 328 \tLoss: 0.3995956940383747\n",
            "Epoch: 329 \tLoss: 0.3960248601847681\n",
            "Epoch: 330 \tLoss: 0.39250109794324844\n",
            "Epoch: 331 \tLoss: 0.3890100781773699\n",
            "Epoch: 332 \tLoss: 0.3855845106059107\n",
            "Epoch: 333 \tLoss: 0.38218235802547684\n",
            "Epoch: 334 \tLoss: 0.3788462336464175\n",
            "Epoch: 335 \tLoss: 0.3755360947086893\n",
            "Epoch: 336 \tLoss: 0.37228487136548966\n",
            "Epoch: 337 \tLoss: 0.36906683560589265\n",
            "Epoch: 338 \tLoss: 0.3658879162936375\n",
            "Epoch: 339 \tLoss: 0.36274954548169824\n",
            "Epoch: 340 \tLoss: 0.3596645327734536\n",
            "Epoch: 341 \tLoss: 0.3566077736944988\n",
            "Epoch: 342 \tLoss: 0.35358909273455885\n",
            "Epoch: 343 \tLoss: 0.35061829061857586\n",
            "Epoch: 344 \tLoss: 0.3476794909300475\n",
            "Epoch: 345 \tLoss: 0.344778315003576\n",
            "Epoch: 346 \tLoss: 0.34191646503991097\n",
            "Epoch: 347 \tLoss: 0.33908519084597455\n",
            "Epoch: 348 \tLoss: 0.3362949300428917\n",
            "Epoch: 349 \tLoss: 0.3335352831616484\n",
            "Epoch: 350 \tLoss: 0.33081953266057473\n",
            "Epoch: 351 \tLoss: 0.32812106044128025\n",
            "Epoch: 352 \tLoss: 0.3254719512729809\n",
            "Epoch: 353 \tLoss: 0.32285277134385604\n",
            "Epoch: 354 \tLoss: 0.3202587616597784\n",
            "Epoch: 355 \tLoss: 0.3177047063564432\n",
            "Epoch: 356 \tLoss: 0.31517741231825847\n",
            "Epoch: 357 \tLoss: 0.3126861006663791\n",
            "Epoch: 358 \tLoss: 0.3102187663959018\n",
            "Epoch: 359 \tLoss: 0.30778386129130575\n",
            "Epoch: 360 \tLoss: 0.3053809945824845\n",
            "Epoch: 361 \tLoss: 0.303008237725188\n",
            "Epoch: 362 \tLoss: 0.30066716831562845\n",
            "Epoch: 363 \tLoss: 0.29834387631251896\n",
            "Epoch: 364 \tLoss: 0.2960512862894042\n",
            "Epoch: 365 \tLoss: 0.293794479863397\n",
            "Epoch: 366 \tLoss: 0.2915540315082361\n",
            "Epoch: 367 \tLoss: 0.2893421208678648\n",
            "Epoch: 368 \tLoss: 0.287168583993254\n",
            "Epoch: 369 \tLoss: 0.28500122615489465\n",
            "Epoch: 370 \tLoss: 0.2828772912636913\n",
            "Epoch: 371 \tLoss: 0.2807657518263521\n",
            "Epoch: 372 \tLoss: 0.27868416025463877\n",
            "Epoch: 373 \tLoss: 0.27662007934574423\n",
            "Epoch: 374 \tLoss: 0.27459249009603054\n",
            "Epoch: 375 \tLoss: 0.2725809299354923\n",
            "Epoch: 376 \tLoss: 0.2705898208479429\n",
            "Epoch: 377 \tLoss: 0.26863296760310384\n",
            "Epoch: 378 \tLoss: 0.26668043479580306\n",
            "Epoch: 379 \tLoss: 0.26477037845500584\n",
            "Epoch: 380 \tLoss: 0.26286989129308996\n",
            "Epoch: 381 \tLoss: 0.26099348331576794\n",
            "Epoch: 382 \tLoss: 0.25913933510410375\n",
            "Epoch: 383 \tLoss: 0.25731132185921585\n",
            "Epoch: 384 \tLoss: 0.2554948229728074\n",
            "Epoch: 385 \tLoss: 0.25370402826831256\n",
            "Epoch: 386 \tLoss: 0.2519305882782772\n",
            "Epoch: 387 \tLoss: 0.2501848837810344\n",
            "Epoch: 388 \tLoss: 0.24844517899227553\n",
            "Epoch: 389 \tLoss: 0.2467362142713933\n",
            "Epoch: 390 \tLoss: 0.2450387986569569\n",
            "Epoch: 391 \tLoss: 0.24336192140291477\n",
            "Epoch: 392 \tLoss: 0.241705653032866\n",
            "Epoch: 393 \tLoss: 0.24007035650569816\n",
            "Epoch: 394 \tLoss: 0.23844585869589757\n",
            "Epoch: 395 \tLoss: 0.23684612950631256\n",
            "Epoch: 396 \tLoss: 0.2352583872090126\n",
            "Epoch: 397 \tLoss: 0.23368776615323691\n",
            "Epoch: 398 \tLoss: 0.23213920003638186\n",
            "Epoch: 399 \tLoss: 0.230600004180752\n",
            "Epoch: 400 \tLoss: 0.2290852683885344\n",
            "Epoch: 401 \tLoss: 0.2275774511026925\n",
            "Epoch: 402 \tLoss: 0.22609423531283593\n",
            "Epoch: 403 \tLoss: 0.2246204026942623\n",
            "Epoch: 404 \tLoss: 0.22317079249127159\n",
            "Epoch: 405 \tLoss: 0.22172480898684468\n",
            "Epoch: 406 \tLoss: 0.22030346622240954\n",
            "Epoch: 407 \tLoss: 0.21889021478850265\n",
            "Epoch: 408 \tLoss: 0.2174969368196767\n",
            "Epoch: 409 \tLoss: 0.21611807514624348\n",
            "Epoch: 410 \tLoss: 0.2147525906048972\n",
            "Epoch: 411 \tLoss: 0.21339859839143424\n",
            "Epoch: 412 \tLoss: 0.21205615817472853\n",
            "Epoch: 413 \tLoss: 0.21073741118969588\n",
            "Epoch: 414 \tLoss: 0.20942251808170614\n",
            "Epoch: 415 \tLoss: 0.2081238166910821\n",
            "Epoch: 416 \tLoss: 0.20684108921679958\n",
            "Epoch: 417 \tLoss: 0.20556787838195933\n",
            "Epoch: 418 \tLoss: 0.20430861953003654\n",
            "Epoch: 419 \tLoss: 0.20306000293328844\n",
            "Epoch: 420 \tLoss: 0.20182880200445652\n",
            "Epoch: 421 \tLoss: 0.2006031234331172\n",
            "Epoch: 422 \tLoss: 0.19939433147424254\n",
            "Epoch: 423 \tLoss: 0.1981973175344796\n",
            "Epoch: 424 \tLoss: 0.19701236390091223\n",
            "Epoch: 425 \tLoss: 0.19583401501435657\n",
            "Epoch: 426 \tLoss: 0.1946725869101697\n",
            "Epoch: 427 \tLoss: 0.1935239100892996\n",
            "Epoch: 428 \tLoss: 0.19238125205296894\n",
            "Epoch: 429 \tLoss: 0.19125314956081324\n",
            "Epoch: 430 \tLoss: 0.19013526020892735\n",
            "Epoch: 431 \tLoss: 0.18902962134572968\n",
            "Epoch: 432 \tLoss: 0.18793283512109313\n",
            "Epoch: 433 \tLoss: 0.18684722817149654\n",
            "Epoch: 434 \tLoss: 0.18577254730565795\n",
            "Epoch: 435 \tLoss: 0.18470934489420776\n",
            "Epoch: 436 \tLoss: 0.1836466723089588\n",
            "Epoch: 437 \tLoss: 0.18261053355346465\n",
            "Epoch: 438 \tLoss: 0.18157083085127945\n",
            "Epoch: 439 \tLoss: 0.1805466484149982\n",
            "Epoch: 440 \tLoss: 0.17953243061643223\n",
            "Epoch: 441 \tLoss: 0.17852343175688695\n",
            "Epoch: 442 \tLoss: 0.17752894328842903\n",
            "Epoch: 443 \tLoss: 0.1765405672506012\n",
            "Epoch: 444 \tLoss: 0.17556520885434643\n",
            "Epoch: 445 \tLoss: 0.17459231223268756\n",
            "Epoch: 446 \tLoss: 0.1736324923434134\n",
            "Epoch: 447 \tLoss: 0.17268297223952309\n",
            "Epoch: 448 \tLoss: 0.17173824754768405\n",
            "Epoch: 449 \tLoss: 0.17080166178016826\n",
            "Epoch: 450 \tLoss: 0.1698791896282085\n",
            "Epoch: 451 \tLoss: 0.16896138850856443\n",
            "Epoch: 452 \tLoss: 0.16805208602855945\n",
            "Epoch: 453 \tLoss: 0.1671518506161098\n",
            "Epoch: 454 \tLoss: 0.16625737199752494\n",
            "Epoch: 455 \tLoss: 0.1653752698209779\n",
            "Epoch: 456 \tLoss: 0.16449503250548553\n",
            "Epoch: 457 \tLoss: 0.16363071460790676\n",
            "Epoch: 458 \tLoss: 0.16276704857190108\n",
            "Epoch: 459 \tLoss: 0.16191421307880302\n",
            "Epoch: 460 \tLoss: 0.16107121029676036\n",
            "Epoch: 461 \tLoss: 0.16023213901267996\n",
            "Epoch: 462 \tLoss: 0.15939898503109298\n",
            "Epoch: 463 \tLoss: 0.1585766721259931\n",
            "Epoch: 464 \tLoss: 0.15776122374267415\n",
            "Epoch: 465 \tLoss: 0.1569499459503026\n",
            "Epoch: 466 \tLoss: 0.1561507678365913\n",
            "Epoch: 467 \tLoss: 0.15535336263991636\n",
            "Epoch: 468 \tLoss: 0.15456497238884712\n",
            "Epoch: 469 \tLoss: 0.15378404993178516\n",
            "Epoch: 470 \tLoss: 0.15300954480109544\n",
            "Epoch: 471 \tLoss: 0.1522411740674027\n",
            "Epoch: 472 \tLoss: 0.15147895147574358\n",
            "Epoch: 473 \tLoss: 0.15072434491895395\n",
            "Epoch: 474 \tLoss: 0.1499728959631817\n",
            "Epoch: 475 \tLoss: 0.14923146428090744\n",
            "Epoch: 476 \tLoss: 0.1484944301111431\n",
            "Epoch: 477 \tLoss: 0.14776545843302175\n",
            "Epoch: 478 \tLoss: 0.14703997850803466\n",
            "Epoch: 479 \tLoss: 0.14632259280388726\n",
            "Epoch: 480 \tLoss: 0.14560782893336024\n",
            "Epoch: 481 \tLoss: 0.14490168981639476\n",
            "Epoch: 482 \tLoss: 0.144200146551533\n",
            "Epoch: 483 \tLoss: 0.14350719284266233\n",
            "Epoch: 484 \tLoss: 0.14281692253104572\n",
            "Epoch: 485 \tLoss: 0.14213251248644343\n",
            "Epoch: 486 \tLoss: 0.141454648194385\n",
            "Epoch: 487 \tLoss: 0.14078156752833004\n",
            "Epoch: 488 \tLoss: 0.14011289266034446\n",
            "Epoch: 489 \tLoss: 0.1394535655091549\n",
            "Epoch: 490 \tLoss: 0.13879577468695312\n",
            "Epoch: 491 \tLoss: 0.13814311236913862\n",
            "Epoch: 492 \tLoss: 0.13749882090708304\n",
            "Epoch: 493 \tLoss: 0.1368550536832933\n",
            "Epoch: 494 \tLoss: 0.1362202108099029\n",
            "Epoch: 495 \tLoss: 0.1355905030886161\n",
            "Epoch: 496 \tLoss: 0.1349620126059343\n",
            "Epoch: 497 \tLoss: 0.13434312479763194\n",
            "Epoch: 498 \tLoss: 0.13372639701541128\n",
            "Epoch: 499 \tLoss: 0.1331129827504528\n"
          ]
        }
      ],
      "source": [
        "class CBOW(torch.nn.Module):\n",
        "    def __init__(self, vocab_size, embedding_dim):\n",
        "        super().__init__()\n",
        "        self.embeddings = nn.Embedding(vocab_size, embedding_dim)\n",
        "        self.linear1 = nn.Linear(embedding_dim, 128)\n",
        "        self.linear2 = nn.Linear(128, vocab_size)\n",
        "\n",
        "    def forward(self, inputs):\n",
        "        embeds = self.embeddings(inputs)\n",
        "        avg_embeds = embeds.mean(dim=0).view(1, -1)\n",
        "        out = F.relu(self.linear1(avg_embeds))\n",
        "        out = self.linear2(out)\n",
        "        log_probs = F.log_softmax(out, dim=1)\n",
        "        return log_probs\n",
        "\n",
        "# create your model and train.  here are some functions to help you make\n",
        "# the data ready for use by your module\n",
        "\n",
        "loss_function = nn.NLLLoss() # Negative Log Likelihood Loss\n",
        "model = CBOW(len(vocab), EMBEDDING_DIM)\n",
        "optimizer = optim.SGD(model.parameters(), lr=0.001)\n",
        "\n",
        "def make_context_vector(context, word_to_ix):\n",
        "    idxs = [word_to_ix[w] for w in context]\n",
        "    return torch.tensor(idxs, dtype=torch.long)\n",
        "\n",
        "#TRAINING\n",
        "for epoch in range(500):\n",
        "    total_loss = 0\n",
        "    for context, target in data:\n",
        "\n",
        "        # Step 1. Prepare the inputs to be passed to the model (i.e, turn the words\n",
        "        # into integer indices and wrap them in tensors)\n",
        "        context_idxs = make_context_vector(context, word_to_ix)\n",
        "\n",
        "        # Step 2. Recall that torch *accumulates* gradients. Before passing in a\n",
        "        # new instance, you need to zero out the gradients from the old\n",
        "        # instance\n",
        "        model.zero_grad()\n",
        "\n",
        "        # Step 3. Run the forward pass, getting log probabilities over next\n",
        "        # words\n",
        "        log_probs = model(context_idxs)\n",
        "\n",
        "        # Step 4. Compute your loss function. (Again, Torch wants the target\n",
        "        # word wrapped in a tensor)\n",
        "        loss = loss_function(log_probs, torch.tensor([word_to_ix[target]], dtype=torch.long))\n",
        "\n",
        "        # Step 5. Do the backward pass and update the gradient\n",
        "        loss.backward()\n",
        "        optimizer.step()\n",
        "\n",
        "        # Get the Python number from a 1-element Tensor by calling tensor.item()\n",
        "        total_loss += loss.item()\n",
        "    average_loss= total_loss/len(data)\n",
        "    print('Epoch:', epoch, '\\tLoss:', average_loss)  # The loss decreased every iteration over the training data!"
      ]
    },
    {
      "cell_type": "markdown",
      "metadata": {
        "id": "TmwqzMHBgfFi"
      },
      "source": [
        "##  Check the results\n",
        "\n",
        "Then we check the results by making predictions of target work by context"
      ]
    },
    {
      "cell_type": "code",
      "execution_count": 12,
      "metadata": {
        "scrolled": true,
        "colab": {
          "base_uri": "https://localhost:8080/"
        },
        "id": "s-MNo50wgfFi",
        "outputId": "b862a885-565c-4c77-d560-12013cf0e86b"
      },
      "outputs": [
        {
          "output_type": "stream",
          "name": "stdout",
          "text": [
            "Raw text: We are about to study the idea of a computational process. Computational processes are abstract beings that inhabit computers. As they evolve, processes manipulate other abstract things called data. The evolution of a process is directed by a pattern of rules called a program. People create programs to direct processes. In effect, we conjure the spirits of the computer with our spells.\n",
            "\n",
            "Context: ['People', 'create', 'to', 'direct']\n",
            "\n",
            "Prediction: programs\n"
          ]
        }
      ],
      "source": [
        "context = ['People','create','to', 'direct']\n",
        "context_vector = make_context_vector(context, word_to_ix)\n",
        "a = model(context_vector)\n",
        "\n",
        "#Print result\n",
        "print(f'Raw text: {\" \".join(raw_text)}\\n')\n",
        "print(f'Context: {context}\\n')\n",
        "print(f'Prediction: {ix_to_word[torch.argmax(a[0]).item()]}')"
      ]
    },
    {
      "cell_type": "code",
      "source": [],
      "metadata": {
        "id": "2rQTmWtS_CMT"
      },
      "execution_count": 12,
      "outputs": []
    },
    {
      "cell_type": "code",
      "execution_count": 13,
      "metadata": {
        "scrolled": true,
        "outputId": "01b017d9-0e7d-4eaa-b088-c399a46eccf7",
        "colab": {
          "base_uri": "https://localhost:8080/"
        },
        "id": "MSmvlbpP_CZK"
      },
      "outputs": [
        {
          "output_type": "stream",
          "name": "stdout",
          "text": [
            "Raw text: We are about to study the idea of a computational process. Computational processes are abstract beings that inhabit computers. As they evolve, processes manipulate other abstract things called data. The evolution of a process is directed by a pattern of rules called a program. People create programs to direct processes. In effect, we conjure the spirits of the computer with our spells.\n",
            "\n",
            "Context: ['processes', 'are', 'abstract', 'inhabit']\n",
            "\n",
            "Prediction: beings\n"
          ]
        }
      ],
      "source": [
        "context = ['processes','are','abstract', 'inhabit']\n",
        "context_vector = make_context_vector(context, word_to_ix)\n",
        "a = model(context_vector)\n",
        "\n",
        "#Print result\n",
        "print(f'Raw text: {\" \".join(raw_text)}\\n')\n",
        "print(f'Context: {context}\\n')\n",
        "print(f'Prediction: {ix_to_word[torch.argmax(a[0]).item()]}')"
      ]
    },
    {
      "cell_type": "markdown",
      "metadata": {
        "id": "T1LYI8kLgfFi"
      },
      "source": [
        "# Practical part 2: Computing Word Embeddings in  `Alice in Wonderland` using CBoW"
      ]
    },
    {
      "cell_type": "markdown",
      "metadata": {
        "id": "mkYk4GXYgfFj"
      },
      "source": [
        "Now let's try to build word embedding in a ‘Alice in Wonderland’ instead of a toy example. The word-label mapping dictionaries and corpus are available [here](https://drive.google.com/drive/folders/1mYM29PbWQ4rS0bgKndFJjZlkbcwMaEpO?usp=sharing). You can use the cell bellow to download the necessary data in your working directory."
      ]
    },
    {
      "cell_type": "code",
      "execution_count": 14,
      "metadata": {
        "id": "QP78MThngfFj",
        "outputId": "97fbabb4-c437-43e3-bf41-3be1d3991590",
        "colab": {
          "base_uri": "https://localhost:8080/"
        }
      },
      "outputs": [
        {
          "output_type": "stream",
          "name": "stderr",
          "text": [
            "Retrieving folder contents\n"
          ]
        },
        {
          "output_type": "stream",
          "name": "stdout",
          "text": [
            "Processing file 1TGMG8jTqZBrJoJB_gGxd9vh8rtX7JuXw alice.json\n",
            "Processing file 1ECyNDt0sb8PD9A5LN8YYSUb6vmb1uj6W ix_to_word.json\n",
            "Processing file 1NYzP_0QSBFVNCZW6m7KAFA83LJUtU97Q word_to_ix.json\n"
          ]
        },
        {
          "output_type": "stream",
          "name": "stderr",
          "text": [
            "Retrieving folder contents completed\n",
            "Building directory structure\n",
            "Building directory structure completed\n",
            "Downloading...\n",
            "From: https://drive.google.com/uc?id=1TGMG8jTqZBrJoJB_gGxd9vh8rtX7JuXw\n",
            "To: /content/Word_embedding_data/alice.json\n",
            "100%|██████████| 78.0k/78.0k [00:00<00:00, 83.9MB/s]\n",
            "Downloading...\n",
            "From: https://drive.google.com/uc?id=1ECyNDt0sb8PD9A5LN8YYSUb6vmb1uj6W\n",
            "To: /content/Word_embedding_data/ix_to_word.json\n",
            "100%|██████████| 42.3k/42.3k [00:00<00:00, 59.1MB/s]\n",
            "Downloading...\n",
            "From: https://drive.google.com/uc?id=1NYzP_0QSBFVNCZW6m7KAFA83LJUtU97Q\n",
            "To: /content/Word_embedding_data/word_to_ix.json\n",
            "100%|██████████| 37.6k/37.6k [00:00<00:00, 52.3MB/s]\n",
            "Download completed\n"
          ]
        },
        {
          "output_type": "execute_result",
          "data": {
            "text/plain": [
              "['/content/Word_embedding_data/alice.json',\n",
              " '/content/Word_embedding_data/ix_to_word.json',\n",
              " '/content/Word_embedding_data/word_to_ix.json']"
            ]
          },
          "metadata": {},
          "execution_count": 14
        }
      ],
      "source": [
        "import gdown\n",
        "gdown.download_folder(\"https://drive.google.com/drive/folders/1mYM29PbWQ4rS0bgKndFJjZlkbcwMaEpO\")"
      ]
    },
    {
      "cell_type": "markdown",
      "metadata": {
        "id": "ELaEu_ChgfFj"
      },
      "source": [
        "##  Data Preprocessing"
      ]
    },
    {
      "cell_type": "code",
      "execution_count": 15,
      "metadata": {
        "id": "IjXeneN2gfFj"
      },
      "outputs": [],
      "source": [
        "# modify the path according to your own file location\n",
        "import os\n",
        "data_path=os.path.join(\"/content/Word_embedding_data/\")\n",
        "# if you are not using Colab, change data_path above to where you stored the data locally"
      ]
    },
    {
      "cell_type": "markdown",
      "metadata": {
        "id": "qWj2xExjgfFk"
      },
      "source": [
        "Now we load the data:"
      ]
    },
    {
      "cell_type": "code",
      "execution_count": 16,
      "metadata": {
        "id": "TpS7VA40gfFk"
      },
      "outputs": [],
      "source": [
        "import json\n",
        "with open(os.path.join(data_path,\"alice.json\"),'r') as f:\n",
        "    alice = json.load(f)\n",
        "with open(os.path.join(data_path,\"ix_to_word.json\"),'r') as f:\n",
        "    ix_to_word = json.load(f)\n",
        "with open(os.path.join(data_path,\"word_to_ix.json\"),'r') as f:\n",
        "    word_to_ix = json.load(f)"
      ]
    },
    {
      "cell_type": "markdown",
      "metadata": {
        "id": "cAQKVpjXgfFk"
      },
      "source": [
        "Then we create the context and target pairs by borrowing some keras utilities. We set the window_size 2 (2 words to the left, 2 to the right)."
      ]
    },
    {
      "cell_type": "code",
      "execution_count": 17,
      "metadata": {
        "id": "BOhLDgfpgfFk",
        "outputId": "dfa65c9d-eeb6-4dba-e55d-439f4a30818b",
        "colab": {
          "base_uri": "https://localhost:8080/"
        }
      },
      "outputs": [
        {
          "output_type": "stream",
          "name": "stderr",
          "text": [
            "<ipython-input-17-9171d78e1da2>:24: UserWarning: Creating a tensor from a list of numpy.ndarrays is extremely slow. Please consider converting the list to a single numpy.ndarray with numpy.array() before converting to a tensor. (Triggered internally at /pytorch/torch/csrc/utils/tensor_new.cpp:254.)\n",
            "  X=torch.tensor(X, dtype=torch.long)\n"
          ]
        }
      ],
      "source": [
        "window_size=2\n",
        "vocab_size=len(word_to_ix)\n",
        "\n",
        "from tensorflow.keras.preprocessing import text\n",
        "from tensorflow.keras.preprocessing import sequence\n",
        "from tensorflow.keras.utils import pad_sequences\n",
        "\n",
        "corpus = [[word_to_ix[w] for w in text.text_to_word_sequence(doc)] for doc in alice]\n",
        "\n",
        "def generate_context_word_pairs(corpus, window_size, vocab_size):\n",
        "    X = []\n",
        "    Y = []\n",
        "    context_length = window_size*2\n",
        "    for words in corpus:\n",
        "        sentence_length = len(words)\n",
        "        for index, word in enumerate(words):\n",
        "            start = index - window_size\n",
        "            end = index + window_size + 1\n",
        "            context = [words[i] for i in range(start, end)if 0 <= i < sentence_length and i != index]\n",
        "            x = pad_sequences([context], maxlen=context_length)[0]\n",
        "            X.append(x)\n",
        "            Y.append([word])\n",
        "\n",
        "    X=torch.tensor(X, dtype=torch.long)\n",
        "    Y=torch.tensor(Y, dtype=torch.long)\n",
        "    return X,Y\n",
        "\n",
        "X,Y = generate_context_word_pairs(corpus, window_size=window_size, vocab_size=vocab_size)"
      ]
    },
    {
      "cell_type": "markdown",
      "metadata": {
        "id": "FZNbgYGbgfFk"
      },
      "source": [
        "\n",
        "##  Create CBoW Model\n",
        "Now we create CBoW model, we could set the word embedding size to be 100 (or  some other number if you prefer)."
      ]
    },
    {
      "cell_type": "code",
      "source": [
        "print(X.size(), Y.size())"
      ],
      "metadata": {
        "id": "-PAXZOlg_kA6",
        "outputId": "5bb77db6-28ae-468c-a6de-47b0fade4840",
        "colab": {
          "base_uri": "https://localhost:8080/"
        }
      },
      "execution_count": 18,
      "outputs": [
        {
          "output_type": "stream",
          "name": "stdout",
          "text": [
            "torch.Size([11649, 4]) torch.Size([11649, 1])\n"
          ]
        }
      ]
    },
    {
      "cell_type": "code",
      "source": [
        "X[0]"
      ],
      "metadata": {
        "id": "S8s89dwEAeVB",
        "outputId": "770e6dbf-a4f4-4561-eb91-599e9e5c2799",
        "colab": {
          "base_uri": "https://localhost:8080/"
        }
      },
      "execution_count": 19,
      "outputs": [
        {
          "output_type": "execute_result",
          "data": {
            "text/plain": [
              "tensor([  0,   0, 337, 669])"
            ]
          },
          "metadata": {},
          "execution_count": 19
        }
      ]
    },
    {
      "cell_type": "code",
      "execution_count": 20,
      "metadata": {
        "id": "ruDynBCegfFk"
      },
      "outputs": [],
      "source": [
        "class CBOW(torch.nn.Module):\n",
        "    def __init__(self, vocab_size, embedding_dim):\n",
        "        super().__init__()\n",
        "        self.embeddings = nn.Embedding(vocab_size, embedding_dim)\n",
        "        self.linear1 = nn.Linear(embedding_dim, 128)\n",
        "        self.linear2 = nn.Linear(128, vocab_size)\n",
        "\n",
        "    def forward(self, inputs):\n",
        "        embeds = self.embeddings(inputs)\n",
        "        avg_embeds = embeds.mean(dim=0).view(1, -1)\n",
        "        out = F.relu(self.linear1(avg_embeds))\n",
        "        out = self.linear2(out)\n",
        "        log_probs = F.log_softmax(out, dim=1)\n",
        "        return log_probs\n",
        "\n",
        "EMBEDDING_DIM=100\n",
        "model = CBOW(vocab_size,EMBEDDING_DIM)"
      ]
    },
    {
      "cell_type": "markdown",
      "metadata": {
        "id": "UPx9RVQjgfFk"
      },
      "source": [
        "Remember to move your model to GPU, since now we are training with a larger corpus."
      ]
    },
    {
      "cell_type": "code",
      "execution_count": 21,
      "metadata": {
        "id": "8WvvBAsFgfFt"
      },
      "outputs": [],
      "source": [
        "# Move model to GPU\n",
        "device = torch.device(\"cuda\" if torch.cuda.is_available() else \"cpu\")\n",
        "model = CBOW(len(vocab), EMBEDDING_DIM).to(device)"
      ]
    },
    {
      "cell_type": "code",
      "source": [
        "print(device)"
      ],
      "metadata": {
        "id": "Fej15gliAQoO",
        "outputId": "8f79dfa9-ba85-48f5-ba97-75d2b5e1614c",
        "colab": {
          "base_uri": "https://localhost:8080/"
        }
      },
      "execution_count": 22,
      "outputs": [
        {
          "output_type": "stream",
          "name": "stdout",
          "text": [
            "cuda\n"
          ]
        }
      ]
    },
    {
      "cell_type": "markdown",
      "metadata": {
        "id": "axNC3DnegfFt"
      },
      "source": [
        "Then we train the model and print the loss. The loss should decrease with every epoch over the training data. You can play with the epochs numbers here."
      ]
    },
    {
      "cell_type": "code",
      "execution_count": 23,
      "metadata": {
        "id": "ctWda48NgfFt",
        "outputId": "5636243f-cb9b-4e49-b348-dad6cbfddfb6",
        "colab": {
          "base_uri": "https://localhost:8080/",
          "height": 408
        }
      },
      "outputs": [
        {
          "output_type": "error",
          "ename": "RuntimeError",
          "evalue": "CUDA error: device-side assert triggered\nCUDA kernel errors might be asynchronously reported at some other API call, so the stacktrace below might be incorrect.\nFor debugging consider passing CUDA_LAUNCH_BLOCKING=1\nCompile with `TORCH_USE_CUDA_DSA` to enable device-side assertions.\n",
          "traceback": [
            "\u001b[0;31m---------------------------------------------------------------------------\u001b[0m",
            "\u001b[0;31mRuntimeError\u001b[0m                              Traceback (most recent call last)",
            "\u001b[0;32m<ipython-input-23-609d82901901>\u001b[0m in \u001b[0;36m<cell line: 0>\u001b[0;34m()\u001b[0m\n\u001b[1;32m     24\u001b[0m         \u001b[0;31m# words\u001b[0m\u001b[0;34m\u001b[0m\u001b[0;34m\u001b[0m\u001b[0m\n\u001b[1;32m     25\u001b[0m         \u001b[0mcontext_on_cuda\u001b[0m \u001b[0;34m=\u001b[0m \u001b[0mcontext\u001b[0m\u001b[0;34m.\u001b[0m\u001b[0mto\u001b[0m\u001b[0;34m(\u001b[0m\u001b[0mdevice\u001b[0m\u001b[0;34m)\u001b[0m\u001b[0;34m\u001b[0m\u001b[0;34m\u001b[0m\u001b[0m\n\u001b[0;32m---> 26\u001b[0;31m         \u001b[0mlog_probs\u001b[0m \u001b[0;34m=\u001b[0m \u001b[0mmodel\u001b[0m\u001b[0;34m(\u001b[0m\u001b[0mcontext_on_cuda\u001b[0m\u001b[0;34m)\u001b[0m\u001b[0;34m\u001b[0m\u001b[0;34m\u001b[0m\u001b[0m\n\u001b[0m\u001b[1;32m     27\u001b[0m \u001b[0;34m\u001b[0m\u001b[0m\n\u001b[1;32m     28\u001b[0m         \u001b[0;31m# Step 4. Compute your loss function. (Again, Torch wants the target\u001b[0m\u001b[0;34m\u001b[0m\u001b[0;34m\u001b[0m\u001b[0m\n",
            "\u001b[0;32m/usr/local/lib/python3.11/dist-packages/torch/nn/modules/module.py\u001b[0m in \u001b[0;36m_wrapped_call_impl\u001b[0;34m(self, *args, **kwargs)\u001b[0m\n\u001b[1;32m   1737\u001b[0m             \u001b[0;32mreturn\u001b[0m \u001b[0mself\u001b[0m\u001b[0;34m.\u001b[0m\u001b[0m_compiled_call_impl\u001b[0m\u001b[0;34m(\u001b[0m\u001b[0;34m*\u001b[0m\u001b[0margs\u001b[0m\u001b[0;34m,\u001b[0m \u001b[0;34m**\u001b[0m\u001b[0mkwargs\u001b[0m\u001b[0;34m)\u001b[0m  \u001b[0;31m# type: ignore[misc]\u001b[0m\u001b[0;34m\u001b[0m\u001b[0;34m\u001b[0m\u001b[0m\n\u001b[1;32m   1738\u001b[0m         \u001b[0;32melse\u001b[0m\u001b[0;34m:\u001b[0m\u001b[0;34m\u001b[0m\u001b[0;34m\u001b[0m\u001b[0m\n\u001b[0;32m-> 1739\u001b[0;31m             \u001b[0;32mreturn\u001b[0m \u001b[0mself\u001b[0m\u001b[0;34m.\u001b[0m\u001b[0m_call_impl\u001b[0m\u001b[0;34m(\u001b[0m\u001b[0;34m*\u001b[0m\u001b[0margs\u001b[0m\u001b[0;34m,\u001b[0m \u001b[0;34m**\u001b[0m\u001b[0mkwargs\u001b[0m\u001b[0;34m)\u001b[0m\u001b[0;34m\u001b[0m\u001b[0;34m\u001b[0m\u001b[0m\n\u001b[0m\u001b[1;32m   1740\u001b[0m \u001b[0;34m\u001b[0m\u001b[0m\n\u001b[1;32m   1741\u001b[0m     \u001b[0;31m# torchrec tests the code consistency with the following code\u001b[0m\u001b[0;34m\u001b[0m\u001b[0;34m\u001b[0m\u001b[0m\n",
            "\u001b[0;32m/usr/local/lib/python3.11/dist-packages/torch/nn/modules/module.py\u001b[0m in \u001b[0;36m_call_impl\u001b[0;34m(self, *args, **kwargs)\u001b[0m\n\u001b[1;32m   1748\u001b[0m                 \u001b[0;32mor\u001b[0m \u001b[0m_global_backward_pre_hooks\u001b[0m \u001b[0;32mor\u001b[0m \u001b[0m_global_backward_hooks\u001b[0m\u001b[0;34m\u001b[0m\u001b[0;34m\u001b[0m\u001b[0m\n\u001b[1;32m   1749\u001b[0m                 or _global_forward_hooks or _global_forward_pre_hooks):\n\u001b[0;32m-> 1750\u001b[0;31m             \u001b[0;32mreturn\u001b[0m \u001b[0mforward_call\u001b[0m\u001b[0;34m(\u001b[0m\u001b[0;34m*\u001b[0m\u001b[0margs\u001b[0m\u001b[0;34m,\u001b[0m \u001b[0;34m**\u001b[0m\u001b[0mkwargs\u001b[0m\u001b[0;34m)\u001b[0m\u001b[0;34m\u001b[0m\u001b[0;34m\u001b[0m\u001b[0m\n\u001b[0m\u001b[1;32m   1751\u001b[0m \u001b[0;34m\u001b[0m\u001b[0m\n\u001b[1;32m   1752\u001b[0m         \u001b[0mresult\u001b[0m \u001b[0;34m=\u001b[0m \u001b[0;32mNone\u001b[0m\u001b[0;34m\u001b[0m\u001b[0;34m\u001b[0m\u001b[0m\n",
            "\u001b[0;32m<ipython-input-20-745ebf1338c0>\u001b[0m in \u001b[0;36mforward\u001b[0;34m(self, inputs)\u001b[0m\n\u001b[1;32m      8\u001b[0m     \u001b[0;32mdef\u001b[0m \u001b[0mforward\u001b[0m\u001b[0;34m(\u001b[0m\u001b[0mself\u001b[0m\u001b[0;34m,\u001b[0m \u001b[0minputs\u001b[0m\u001b[0;34m)\u001b[0m\u001b[0;34m:\u001b[0m\u001b[0;34m\u001b[0m\u001b[0;34m\u001b[0m\u001b[0m\n\u001b[1;32m      9\u001b[0m         \u001b[0membeds\u001b[0m \u001b[0;34m=\u001b[0m \u001b[0mself\u001b[0m\u001b[0;34m.\u001b[0m\u001b[0membeddings\u001b[0m\u001b[0;34m(\u001b[0m\u001b[0minputs\u001b[0m\u001b[0;34m)\u001b[0m\u001b[0;34m\u001b[0m\u001b[0;34m\u001b[0m\u001b[0m\n\u001b[0;32m---> 10\u001b[0;31m         \u001b[0mavg_embeds\u001b[0m \u001b[0;34m=\u001b[0m \u001b[0membeds\u001b[0m\u001b[0;34m.\u001b[0m\u001b[0mmean\u001b[0m\u001b[0;34m(\u001b[0m\u001b[0mdim\u001b[0m\u001b[0;34m=\u001b[0m\u001b[0;36m0\u001b[0m\u001b[0;34m)\u001b[0m\u001b[0;34m.\u001b[0m\u001b[0mview\u001b[0m\u001b[0;34m(\u001b[0m\u001b[0;36m1\u001b[0m\u001b[0;34m,\u001b[0m \u001b[0;34m-\u001b[0m\u001b[0;36m1\u001b[0m\u001b[0;34m)\u001b[0m\u001b[0;34m\u001b[0m\u001b[0;34m\u001b[0m\u001b[0m\n\u001b[0m\u001b[1;32m     11\u001b[0m         \u001b[0mout\u001b[0m \u001b[0;34m=\u001b[0m \u001b[0mF\u001b[0m\u001b[0;34m.\u001b[0m\u001b[0mrelu\u001b[0m\u001b[0;34m(\u001b[0m\u001b[0mself\u001b[0m\u001b[0;34m.\u001b[0m\u001b[0mlinear1\u001b[0m\u001b[0;34m(\u001b[0m\u001b[0mavg_embeds\u001b[0m\u001b[0;34m)\u001b[0m\u001b[0;34m)\u001b[0m\u001b[0;34m\u001b[0m\u001b[0;34m\u001b[0m\u001b[0m\n\u001b[1;32m     12\u001b[0m         \u001b[0mout\u001b[0m \u001b[0;34m=\u001b[0m \u001b[0mself\u001b[0m\u001b[0;34m.\u001b[0m\u001b[0mlinear2\u001b[0m\u001b[0;34m(\u001b[0m\u001b[0mout\u001b[0m\u001b[0;34m)\u001b[0m\u001b[0;34m\u001b[0m\u001b[0;34m\u001b[0m\u001b[0m\n",
            "\u001b[0;31mRuntimeError\u001b[0m: CUDA error: device-side assert triggered\nCUDA kernel errors might be asynchronously reported at some other API call, so the stacktrace below might be incorrect.\nFor debugging consider passing CUDA_LAUNCH_BLOCKING=1\nCompile with `TORCH_USE_CUDA_DSA` to enable device-side assertions.\n"
          ]
        }
      ],
      "source": [
        "# create your model and train.  here are some functions to help you make\n",
        "# the data ready for use by your module\n",
        "\n",
        "loss_function = nn.NLLLoss() # Negative Log Likelihood Loss\n",
        "optimizer = optim.SGD(model.parameters(), lr=0.001)\n",
        "\n",
        "# def make_context_vector(context, word_to_ix):\n",
        "#     idxs = [word_to_ix[w] for w in context]\n",
        "#     return torch.tensor(idxs, dtype=torch.long)\n",
        "\n",
        "#TRAINING\n",
        "for epoch in range(10):\n",
        "    total_loss = 0\n",
        "    for context, target in zip(X, Y):\n",
        "\n",
        "        # Step 1. Words are already integer inputs, so no changes necessary\n",
        "\n",
        "        # Step 2. Recall that torch *accumulates* gradients. Before passing in a\n",
        "        # new instance, you need to zero out the gradients from the old\n",
        "        # instance\n",
        "        model.zero_grad()\n",
        "\n",
        "        # Step 3. Run the forward pass, getting log probabilities over next\n",
        "        # words\n",
        "        context_on_cuda = context.to(device)\n",
        "        log_probs = model(context_on_cuda)\n",
        "\n",
        "        # Step 4. Compute your loss function. (Again, Torch wants the target\n",
        "        # word wrapped in a tensor)\n",
        "        # target_tensor = torch.tensor([word_to_ix[target]], dtype=torch.long).to(device)\n",
        "        target_on_cuda = target.to(device)\n",
        "        loss = loss_function(log_probs, target_on_cuda)\n",
        "\n",
        "        # Step 5. Do the backward pass and update the gradient\n",
        "        loss.backward()\n",
        "        optimizer.step()\n",
        "\n",
        "        # Get the Python number from a 1-element Tensor by calling tensor.item()\n",
        "        total_loss += loss.item()\n",
        "    average_loss= total_loss/len(data)\n",
        "    print('Epoch:', epoch, '\\tLoss:', average_loss)  # The loss decreased every iteration over the training data!"
      ]
    },
    {
      "cell_type": "markdown",
      "metadata": {
        "id": "aegLUoqZgfFt"
      },
      "source": [
        "# Practical. 3: Analogy Task"
      ]
    },
    {
      "cell_type": "markdown",
      "metadata": {
        "id": "quUGRVL0gfFt"
      },
      "source": [
        "\n",
        "\n",
        "\n",
        "**Reading material**\n",
        "* [1] Mikolov, Tomas, et al. \"[Efficient Estimation of Word Representations in Vector Space](https://arxiv.org/abs/1301.3781)\" Advances in neural information processing systems. 2013.\n"
      ]
    },
    {
      "cell_type": "markdown",
      "metadata": {
        "id": "OIQbNARFgfFt"
      },
      "source": [
        "Implement your own function to perform the analogy task (see [1] for concrete examples). Use the same distance metric as in [1]. Your function should be able to answer whether an analogy like: \"a king is to a queen as a man is to a woman\" ($e_{king} - e_{queen} + e_{woman} \\approx e_{man}$) is true.\n",
        "\n",
        "In a perfect scenario, we would like that this analogy ($e_{king} - e_{queen} + e_{woman}$) results in the embedding of the word \"man\". However, it does not always result in exactly the same word embedding. The result of the formula is called the expected or the predicted word embedding. In this context, \"man\" is called the true or the actual word $t$. We want to find the word $p$ in the vocabulary, where the embedding of $p$ (referred to as $e_p$) is the closest to the predicted embedding (i.e. result of the formula). Then, we can check if $p$ is the same word as the true word $t$.  \n",
        "\n",
        "You have to answer an analogy function using each embedding for  CBOW model. Show the true word (with distance similarity value between predicted embedding and true word embedding, i.e. `sim1`) , the predicted word (with distance similarity value between predicted embedding and the embedding of the word in the vocabulary that is closest to this predicted embedding, i.e. `sim2`).\n",
        "\n",
        "Since `Alice in wonder land` is a relatively small dataset to training the model for the analogy task,  we may find it is difficult to get the correct answer by searching the nearest word embedding. Therefore, we extend the predicted word to the nearest `nr` number of words and check if the true word is within them. Do not expect the `nr` to be very small, it could be tens or hundreds."
      ]
    },
    {
      "cell_type": "markdown",
      "metadata": {
        "id": "sG2yqxzMgfFu"
      },
      "source": [
        "<b>HINT</b>: to visualize the results of the analogy tasks , you can print them in a table. An example is given below.\n",
        "\n",
        "\n",
        "| Analogy task | True word (sim1)  | Predicted nearaest word (sim2) | Correct? |True word within the top `nr` nearest word?|\n",
        "|:------:|:------:|:------:|:------:|:------:|\n",
        "|  queen is to king as woman is to ?\t | man (sim1) | predicted_word(sim2) | True / False |   True / False|"
      ]
    },
    {
      "cell_type": "code",
      "execution_count": null,
      "metadata": {
        "id": "360df6u5gfFu"
      },
      "outputs": [],
      "source": [
        "analogy=('queen', 'king', 'woman', 'man')"
      ]
    },
    {
      "cell_type": "markdown",
      "metadata": {
        "id": "SVjTsCYngfFu"
      },
      "source": [
        "First let us extract the embeddings of all vocabularies for the following task"
      ]
    },
    {
      "cell_type": "code",
      "execution_count": null,
      "metadata": {
        "id": "bHOC97CJgfFu"
      },
      "outputs": [],
      "source": [
        "dev = torch.device(\n",
        "    \"cuda\") if torch.cuda.is_available() else torch.device(\"cpu\")"
      ]
    },
    {
      "cell_type": "code",
      "execution_count": null,
      "metadata": {
        "id": "Lu4vMWNUgfFu"
      },
      "outputs": [],
      "source": [
        "embeddings = model.embeddings(torch.Tensor([list(range(0,vocab_size))]).long().to(dev))\n",
        "embeddings = embeddings.view(-1,100)\n",
        "embeddings = embeddings.cpu().detach().numpy()"
      ]
    },
    {
      "cell_type": "markdown",
      "metadata": {
        "id": "9j7HbZfPgfFu"
      },
      "source": [
        "Then we define a 'get_nearest_words' function to retrive the nearest `nr` words to a certain word embedding"
      ]
    },
    {
      "cell_type": "code",
      "execution_count": null,
      "metadata": {
        "id": "8X0SVdsUgfFu"
      },
      "outputs": [],
      "source": [
        "def get_nearest_words():\n",
        "    # === ADD CODE HERE ==="
      ]
    },
    {
      "cell_type": "markdown",
      "metadata": {
        "id": "PA0scmwNgfFu"
      },
      "source": [
        "Now let's search for the nearest `one` and `nr` words of the predicted word embedding, and print results of the analogy tasks"
      ]
    },
    {
      "cell_type": "code",
      "execution_count": null,
      "metadata": {
        "id": "jOwNGIMvgfFv"
      },
      "outputs": [],
      "source": [
        "def print_analogy(analogy):\n",
        "    # === ADD CODE HERE ==="
      ]
    },
    {
      "cell_type": "code",
      "execution_count": null,
      "metadata": {
        "id": "YhY33nkkgfFv"
      },
      "outputs": [],
      "source": [
        "print_analogy()"
      ]
    }
  ],
  "metadata": {
    "colab": {
      "name": "P1.2_Word_embedding.ipynb",
      "provenance": [],
      "gpuType": "T4",
      "include_colab_link": true
    },
    "kernelspec": {
      "display_name": "Python 3",
      "name": "python3"
    },
    "language_info": {
      "codemirror_mode": {
        "name": "ipython",
        "version": 3
      },
      "file_extension": ".py",
      "mimetype": "text/x-python",
      "name": "python",
      "nbconvert_exporter": "python",
      "pygments_lexer": "ipython3",
      "version": "3.12.3"
    },
    "accelerator": "GPU"
  },
  "nbformat": 4,
  "nbformat_minor": 0
}